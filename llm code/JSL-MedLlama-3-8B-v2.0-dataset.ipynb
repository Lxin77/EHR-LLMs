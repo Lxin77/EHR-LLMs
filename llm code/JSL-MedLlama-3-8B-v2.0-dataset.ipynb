{
 "cells": [
  {
   "cell_type": "code",
   "execution_count": 2,
   "metadata": {},
   "outputs": [],
   "source": [
    "import subprocess\n",
    "import os\n",
    "\n",
    "result = subprocess.run('bash -c \"source /etc/network_turbo && env | grep proxy\"', shell=True, capture_output=True, text=True)\n",
    "output = result.stdout\n",
    "for line in output.splitlines():\n",
    "    if '=' in line:\n",
    "        var, value = line.split('=', 1)\n",
    "        os.environ[var] = value"
   ]
  },
  {
   "cell_type": "code",
   "execution_count": 1,
   "metadata": {},
   "outputs": [],
   "source": [
    "import torch\n",
    "torch.cuda.empty_cache()"
   ]
  },
  {
   "cell_type": "code",
   "execution_count": 1,
   "metadata": {},
   "outputs": [],
   "source": [
    "import os\n",
    "os.environ['HF_ENDPOINT'] = 'https://hf-mirror.com'\n"
   ]
  },
  {
   "cell_type": "code",
   "execution_count": 1,
   "metadata": {},
   "outputs": [
    {
     "data": {
      "application/vnd.jupyter.widget-view+json": {
       "model_id": "18aa6b8f2b814c04aa30884d5bd9fe03",
       "version_major": 2,
       "version_minor": 0
      },
      "text/plain": [
       "VBox(children=(HTML(value='<center> <img\\nsrc=https://huggingface.co/front/assets/huggingface_logo-noborder.sv…"
      ]
     },
     "metadata": {},
     "output_type": "display_data"
    }
   ],
   "source": [
    "from huggingface_hub import notebook_login\n",
    "notebook_login()"
   ]
  },
  {
   "cell_type": "code",
   "execution_count": 3,
   "metadata": {},
   "outputs": [
    {
     "name": "stdout",
     "output_type": "stream",
     "text": [
      "Looking in indexes: http://mirrors.aliyun.com/pypi/simple\n",
      "Collecting langchain-huggingface\n",
      "  Downloading http://mirrors.aliyun.com/pypi/packages/39/ce/ad7f50a6289cf562747df9a966b4d60a848571db2e57ad8d00dca2478096/langchain_huggingface-0.0.3-py3-none-any.whl (17 kB)\n",
      "Requirement already satisfied: transformers>=4.39.0 in ./miniconda3/lib/python3.8/site-packages (from langchain-huggingface) (4.42.4)\n",
      "Requirement already satisfied: huggingface-hub>=0.23.0 in ./miniconda3/lib/python3.8/site-packages (from langchain-huggingface) (0.24.0)\n",
      "Requirement already satisfied: langchain-core<0.3,>=0.1.52 in ./miniconda3/lib/python3.8/site-packages (from langchain-huggingface) (0.2.22)\n",
      "Requirement already satisfied: tokenizers>=0.19.1 in ./miniconda3/lib/python3.8/site-packages (from langchain-huggingface) (0.19.1)\n",
      "Requirement already satisfied: sentence-transformers>=2.6.0 in ./miniconda3/lib/python3.8/site-packages (from langchain-huggingface) (3.0.1)\n",
      "Requirement already satisfied: requests in ./miniconda3/lib/python3.8/site-packages (from huggingface-hub>=0.23.0->langchain-huggingface) (2.32.3)\n",
      "Requirement already satisfied: fsspec>=2023.5.0 in ./miniconda3/lib/python3.8/site-packages (from huggingface-hub>=0.23.0->langchain-huggingface) (2024.6.1)\n",
      "Requirement already satisfied: tqdm>=4.42.1 in ./miniconda3/lib/python3.8/site-packages (from huggingface-hub>=0.23.0->langchain-huggingface) (4.66.4)\n",
      "Requirement already satisfied: typing-extensions>=3.7.4.3 in ./miniconda3/lib/python3.8/site-packages (from huggingface-hub>=0.23.0->langchain-huggingface) (4.12.2)\n",
      "Requirement already satisfied: filelock in ./miniconda3/lib/python3.8/site-packages (from huggingface-hub>=0.23.0->langchain-huggingface) (3.15.4)\n",
      "Requirement already satisfied: pyyaml>=5.1 in ./miniconda3/lib/python3.8/site-packages (from huggingface-hub>=0.23.0->langchain-huggingface) (6.0.1)\n",
      "Requirement already satisfied: packaging>=20.9 in ./miniconda3/lib/python3.8/site-packages (from huggingface-hub>=0.23.0->langchain-huggingface) (24.1)\n",
      "Requirement already satisfied: jsonpatch<2.0,>=1.33 in ./miniconda3/lib/python3.8/site-packages (from langchain-core<0.3,>=0.1.52->langchain-huggingface) (1.33)\n",
      "Requirement already satisfied: pydantic<3,>=1 in ./miniconda3/lib/python3.8/site-packages (from langchain-core<0.3,>=0.1.52->langchain-huggingface) (2.8.2)\n",
      "Requirement already satisfied: tenacity!=8.4.0,<9.0.0,>=8.1.0 in ./miniconda3/lib/python3.8/site-packages (from langchain-core<0.3,>=0.1.52->langchain-huggingface) (8.5.0)\n",
      "Requirement already satisfied: langsmith<0.2.0,>=0.1.75 in ./miniconda3/lib/python3.8/site-packages (from langchain-core<0.3,>=0.1.52->langchain-huggingface) (0.1.93)\n",
      "Requirement already satisfied: jsonpointer>=1.9 in ./miniconda3/lib/python3.8/site-packages (from jsonpatch<2.0,>=1.33->langchain-core<0.3,>=0.1.52->langchain-huggingface) (3.0.0)\n",
      "Requirement already satisfied: orjson<4.0.0,>=3.9.14 in ./miniconda3/lib/python3.8/site-packages (from langsmith<0.2.0,>=0.1.75->langchain-core<0.3,>=0.1.52->langchain-huggingface) (3.10.6)\n",
      "Requirement already satisfied: pydantic-core==2.20.1 in ./miniconda3/lib/python3.8/site-packages (from pydantic<3,>=1->langchain-core<0.3,>=0.1.52->langchain-huggingface) (2.20.1)\n",
      "Requirement already satisfied: annotated-types>=0.4.0 in ./miniconda3/lib/python3.8/site-packages (from pydantic<3,>=1->langchain-core<0.3,>=0.1.52->langchain-huggingface) (0.7.0)\n",
      "Requirement already satisfied: certifi>=2017.4.17 in ./miniconda3/lib/python3.8/site-packages (from requests->huggingface-hub>=0.23.0->langchain-huggingface) (2021.5.30)\n",
      "Requirement already satisfied: idna<4,>=2.5 in ./miniconda3/lib/python3.8/site-packages (from requests->huggingface-hub>=0.23.0->langchain-huggingface) (2.10)\n",
      "Requirement already satisfied: charset-normalizer<4,>=2 in ./miniconda3/lib/python3.8/site-packages (from requests->huggingface-hub>=0.23.0->langchain-huggingface) (3.3.2)\n",
      "Requirement already satisfied: urllib3<3,>=1.21.1 in ./miniconda3/lib/python3.8/site-packages (from requests->huggingface-hub>=0.23.0->langchain-huggingface) (1.26.6)\n",
      "Requirement already satisfied: numpy in ./miniconda3/lib/python3.8/site-packages (from sentence-transformers>=2.6.0->langchain-huggingface) (1.24.4)\n",
      "Requirement already satisfied: scipy in ./miniconda3/lib/python3.8/site-packages (from sentence-transformers>=2.6.0->langchain-huggingface) (1.10.1)\n",
      "Requirement already satisfied: Pillow in ./miniconda3/lib/python3.8/site-packages (from sentence-transformers>=2.6.0->langchain-huggingface) (8.3.2)\n",
      "Requirement already satisfied: torch>=1.11.0 in ./miniconda3/lib/python3.8/site-packages (from sentence-transformers>=2.6.0->langchain-huggingface) (2.3.1)\n",
      "Requirement already satisfied: scikit-learn in ./miniconda3/lib/python3.8/site-packages (from sentence-transformers>=2.6.0->langchain-huggingface) (1.3.2)\n",
      "Requirement already satisfied: nvidia-cuda-cupti-cu12==12.1.105 in ./miniconda3/lib/python3.8/site-packages (from torch>=1.11.0->sentence-transformers>=2.6.0->langchain-huggingface) (12.1.105)\n",
      "Requirement already satisfied: nvidia-curand-cu12==10.3.2.106 in ./miniconda3/lib/python3.8/site-packages (from torch>=1.11.0->sentence-transformers>=2.6.0->langchain-huggingface) (10.3.2.106)\n",
      "Requirement already satisfied: nvidia-cudnn-cu12==8.9.2.26 in ./miniconda3/lib/python3.8/site-packages (from torch>=1.11.0->sentence-transformers>=2.6.0->langchain-huggingface) (8.9.2.26)\n",
      "Requirement already satisfied: nvidia-nvtx-cu12==12.1.105 in ./miniconda3/lib/python3.8/site-packages (from torch>=1.11.0->sentence-transformers>=2.6.0->langchain-huggingface) (12.1.105)\n",
      "Requirement already satisfied: nvidia-cusparse-cu12==12.1.0.106 in ./miniconda3/lib/python3.8/site-packages (from torch>=1.11.0->sentence-transformers>=2.6.0->langchain-huggingface) (12.1.0.106)\n",
      "Requirement already satisfied: nvidia-cuda-nvrtc-cu12==12.1.105 in ./miniconda3/lib/python3.8/site-packages (from torch>=1.11.0->sentence-transformers>=2.6.0->langchain-huggingface) (12.1.105)\n",
      "Requirement already satisfied: nvidia-cufft-cu12==11.0.2.54 in ./miniconda3/lib/python3.8/site-packages (from torch>=1.11.0->sentence-transformers>=2.6.0->langchain-huggingface) (11.0.2.54)\n",
      "Requirement already satisfied: triton==2.3.1 in ./miniconda3/lib/python3.8/site-packages (from torch>=1.11.0->sentence-transformers>=2.6.0->langchain-huggingface) (2.3.1)\n",
      "Requirement already satisfied: networkx in ./miniconda3/lib/python3.8/site-packages (from torch>=1.11.0->sentence-transformers>=2.6.0->langchain-huggingface) (3.1)\n",
      "Requirement already satisfied: jinja2 in ./miniconda3/lib/python3.8/site-packages (from torch>=1.11.0->sentence-transformers>=2.6.0->langchain-huggingface) (3.0.1)\n",
      "Requirement already satisfied: nvidia-nccl-cu12==2.20.5 in ./miniconda3/lib/python3.8/site-packages (from torch>=1.11.0->sentence-transformers>=2.6.0->langchain-huggingface) (2.20.5)\n",
      "Requirement already satisfied: nvidia-cuda-runtime-cu12==12.1.105 in ./miniconda3/lib/python3.8/site-packages (from torch>=1.11.0->sentence-transformers>=2.6.0->langchain-huggingface) (12.1.105)\n",
      "Requirement already satisfied: sympy in ./miniconda3/lib/python3.8/site-packages (from torch>=1.11.0->sentence-transformers>=2.6.0->langchain-huggingface) (1.13.1)\n",
      "Requirement already satisfied: nvidia-cusolver-cu12==11.4.5.107 in ./miniconda3/lib/python3.8/site-packages (from torch>=1.11.0->sentence-transformers>=2.6.0->langchain-huggingface) (11.4.5.107)\n",
      "Requirement already satisfied: nvidia-cublas-cu12==12.1.3.1 in ./miniconda3/lib/python3.8/site-packages (from torch>=1.11.0->sentence-transformers>=2.6.0->langchain-huggingface) (12.1.3.1)\n",
      "Requirement already satisfied: nvidia-nvjitlink-cu12 in ./miniconda3/lib/python3.8/site-packages (from nvidia-cusolver-cu12==11.4.5.107->torch>=1.11.0->sentence-transformers>=2.6.0->langchain-huggingface) (12.5.82)\n",
      "Requirement already satisfied: regex!=2019.12.17 in ./miniconda3/lib/python3.8/site-packages (from transformers>=4.39.0->langchain-huggingface) (2024.5.15)\n",
      "Requirement already satisfied: safetensors>=0.4.1 in ./miniconda3/lib/python3.8/site-packages (from transformers>=4.39.0->langchain-huggingface) (0.4.3)\n",
      "Requirement already satisfied: MarkupSafe>=2.0 in ./miniconda3/lib/python3.8/site-packages (from jinja2->torch>=1.11.0->sentence-transformers>=2.6.0->langchain-huggingface) (2.0.1)\n",
      "Requirement already satisfied: threadpoolctl>=2.0.0 in ./miniconda3/lib/python3.8/site-packages (from scikit-learn->sentence-transformers>=2.6.0->langchain-huggingface) (3.5.0)\n",
      "Requirement already satisfied: joblib>=1.1.1 in ./miniconda3/lib/python3.8/site-packages (from scikit-learn->sentence-transformers>=2.6.0->langchain-huggingface) (1.4.2)\n",
      "Requirement already satisfied: mpmath<1.4,>=1.1.0 in ./miniconda3/lib/python3.8/site-packages (from sympy->torch>=1.11.0->sentence-transformers>=2.6.0->langchain-huggingface) (1.3.0)\n",
      "Installing collected packages: langchain-huggingface\n",
      "Successfully installed langchain-huggingface-0.0.3\n",
      "\u001b[33mWARNING: Running pip as the 'root' user can result in broken permissions and conflicting behaviour with the system package manager. It is recommended to use a virtual environment instead: https://pip.pypa.io/warnings/venv\u001b[0m\n",
      "Note: you may need to restart the kernel to use updated packages.\n"
     ]
    }
   ],
   "source": [
    "pip install -U langchain-huggingface"
   ]
  },
  {
   "cell_type": "code",
   "execution_count": 1,
   "metadata": {},
   "outputs": [
    {
     "name": "stdout",
     "output_type": "stream",
     "text": [
      "Looking in indexes: http://mirrors.aliyun.com/pypi/simple\n",
      "Collecting protobuf==3.20.0\n",
      "  Downloading http://mirrors.aliyun.com/pypi/packages/88/88/cd55f87e896b82a3aba8e6c0affc077de51f7321cf730622b17ef7b0f69c/protobuf-3.20.0-cp38-cp38-manylinux_2_5_x86_64.manylinux1_x86_64.whl (1.0 MB)\n",
      "\u001b[K     |████████████████████████████████| 1.0 MB 411 kB/s eta 0:00:01\n",
      "\u001b[?25hCollecting grpcio==1.39.0\n",
      "  Downloading http://mirrors.aliyun.com/pypi/packages/89/65/0bcffaf1db154514fa87433411b6f01fcbcab2eab776438071482cb3c772/grpcio-1.39.0-cp38-cp38-manylinux2014_x86_64.whl (4.3 MB)\n",
      "\u001b[K     |████████████████████████████████| 4.3 MB 449 kB/s eta 0:00:01\n",
      "\u001b[?25hRequirement already satisfied: six>=1.5.2 in ./miniconda3/lib/python3.8/site-packages (from grpcio==1.39.0) (1.16.0)\n",
      "Installing collected packages: protobuf, grpcio\n",
      "  Attempting uninstall: protobuf\n",
      "    Found existing installation: protobuf 4.25.3\n",
      "    Uninstalling protobuf-4.25.3:\n",
      "      Successfully uninstalled protobuf-4.25.3\n",
      "  Attempting uninstall: grpcio\n",
      "    Found existing installation: grpcio 1.65.1\n",
      "    Uninstalling grpcio-1.65.1:\n",
      "      Successfully uninstalled grpcio-1.65.1\n",
      "\u001b[31mERROR: pip's dependency resolver does not currently take into account all the packages that are installed. This behaviour is the source of the following dependency conflicts.\n",
      "googleapis-common-protos 1.63.2 requires protobuf!=3.20.0,!=3.20.1,!=4.21.1,!=4.21.2,!=4.21.3,!=4.21.4,!=4.21.5,<6.0.0.dev0,>=3.20.2, but you have protobuf 3.20.0 which is incompatible.\n",
      "chromadb 0.5.5 requires grpcio>=1.58.0, but you have grpcio 1.39.0 which is incompatible.\u001b[0m\n",
      "Successfully installed grpcio-1.39.0 protobuf-3.20.0\n",
      "\u001b[33mWARNING: Running pip as the 'root' user can result in broken permissions and conflicting behaviour with the system package manager. It is recommended to use a virtual environment instead: https://pip.pypa.io/warnings/venv\u001b[0m\n",
      "Note: you may need to restart the kernel to use updated packages.\n"
     ]
    }
   ],
   "source": [
    "pip install protobuf==3.20.0 grpcio==1.39.0"
   ]
  },
  {
   "cell_type": "code",
   "execution_count": 3,
   "metadata": {},
   "outputs": [
    {
     "name": "stderr",
     "output_type": "stream",
     "text": [
      "/root/miniconda3/lib/python3.8/site-packages/langchain_core/_api/deprecation.py:139: LangChainDeprecationWarning: The class `HuggingFaceEmbeddings` was deprecated in LangChain 0.2.2 and will be removed in 0.3.0. An updated version of the class exists in the langchain-huggingface package and should be used instead. To use it run `pip install -U langchain-huggingface` and import as `from langchain_huggingface import HuggingFaceEmbeddings`.\n",
      "  warn_deprecated(\n",
      "/root/miniconda3/lib/python3.8/site-packages/sentence_transformers/cross_encoder/CrossEncoder.py:11: TqdmExperimentalWarning: Using `tqdm.autonotebook.tqdm` in notebook mode. Use `tqdm.tqdm` instead to force console mode (e.g. in jupyter console)\n",
      "  from tqdm.autonotebook import tqdm, trange\n",
      "No sentence-transformers model found with name emilyalsentzer/Bio_ClinicalBERT. Creating a new one with mean pooling.\n"
     ]
    }
   ],
   "source": [
    "from langchain.embeddings import HuggingFaceEmbeddings\n",
    "from langchain.document_loaders import TextLoader\n",
    "from langchain.embeddings.openai import OpenAIEmbeddings\n",
    "from langchain.text_splitter import CharacterTextSplitter\n",
    "from langchain.vectorstores import Chroma\n",
    "from os import listdir\n",
    "from os.path import isfile, join\n",
    "\n",
    "# some comment\n",
    "\n",
    "embeddings = HuggingFaceEmbeddings(\n",
    "    model_name = 'emilyalsentzer/Bio_ClinicalBERT',\n",
    "    model_kwargs={'device': 'cuda'}\n",
    ")\n",
    " \n",
    "text = \"This is a test document.\"\n",
    "query_result = embeddings.embed_query(text)\n",
    "\n",
    "\n"
   ]
  },
  {
   "cell_type": "code",
   "execution_count": 4,
   "metadata": {},
   "outputs": [
    {
     "name": "stdout",
     "output_type": "stream",
     "text": [
      "note_1227.txt\n"
     ]
    }
   ],
   "source": [
    "#onlyfiles = [f for f in listdir('top_1000_txt') if isfile(join('top_1000_txt', f))]\n",
    "onlyfiles=['note_1227.txt']\n",
    "raw_documents = []\n",
    "for file in onlyfiles:\n",
    "    print(file)\n",
    "    raw_doc = TextLoader(f'23 txt/{file}').load()\n",
    "    raw_documents.extend(raw_doc)\n",
    "\n",
    "text_splitter = CharacterTextSplitter(chunk_size=512, chunk_overlap=24)"
   ]
  },
  {
   "cell_type": "code",
   "execution_count": 5,
   "metadata": {},
   "outputs": [],
   "source": [
    "#onlyfiles = [f for f in listdir('top_1000_txt') if isfile(join('top_1000_txt', f))]\n",
    "onlyfiles=['note_1227.txt']\n",
    "raw_documents = []\n",
    "for file in onlyfiles:\n",
    "    print(file)\n",
    "    raw_doc = TextLoader(f'23 txt/{file}').load()\n",
    "    raw_documents.extend(raw_doc)\n",
    "\n",
    "text_splitter = CharacterTextSplitter(chunk_size=512, chunk_overlap=24)"
   ]
  },
  {
   "cell_type": "code",
   "execution_count": 6,
   "metadata": {},
   "outputs": [
    {
     "name": "stderr",
     "output_type": "stream",
     "text": [
      "Special tokens have been added in the vocabulary, make sure the associated word embeddings are fine-tuned or trained.\n"
     ]
    },
    {
     "data": {
      "application/vnd.jupyter.widget-view+json": {
       "model_id": "898cc98894224aa0aa156ba7c352528e",
       "version_major": 2,
       "version_minor": 0
      },
      "text/plain": [
       "Loading checkpoint shards:   0%|          | 0/2 [00:00<?, ?it/s]"
      ]
     },
     "metadata": {},
     "output_type": "display_data"
    },
    {
     "name": "stderr",
     "output_type": "stream",
     "text": [
      "Some parameters are on the meta device device because they were offloaded to the cpu.\n"
     ]
    }
   ],
   "source": [
    "# Load model directly\n",
    "from transformers import AutoTokenizer, AutoModelForCausalLM\n",
    "\n",
    "tokenizer = AutoTokenizer.from_pretrained(\"johnsnowlabs/JSL-MedLlama-3-8B-v2.0\")\n",
    "model = AutoModelForCausalLM.from_pretrained(\n",
    "    \"johnsnowlabs/JSL-MedLlama-3-8B-v2.0\",\n",
    "     device_map=\"auto\"\n",
    ")"
   ]
  },
  {
   "cell_type": "code",
   "execution_count": 7,
   "metadata": {},
   "outputs": [
    {
     "name": "stderr",
     "output_type": "stream",
     "text": [
      "/root/miniconda3/lib/python3.8/site-packages/langchain_core/_api/deprecation.py:139: LangChainDeprecationWarning: The class `HuggingFacePipeline` was deprecated in LangChain 0.0.37 and will be removed in 0.3. An updated version of the class exists in the langchain-huggingface package and should be used instead. To use it run `pip install -U langchain-huggingface` and import as `from langchain_huggingface import HuggingFacePipeline`.\n",
      "  warn_deprecated(\n"
     ]
    }
   ],
   "source": [
    "from transformers import pipeline\n",
    "from langchain.llms import HuggingFacePipeline\n",
    "from langchain.chains import RetrievalQA\n",
    "\n",
    "# 设置 Hugging Face 管道\n",
    "pipe = pipeline(\n",
    "    \"text-generation\",\n",
    "    model=model,\n",
    "    tokenizer=tokenizer,\n",
    "    device_map=\"auto\",\n",
    "    max_length=3000,\n",
    "    truncation=True,\n",
    "    repetition_penalty=1.15\n",
    ")\n",
    "\n",
    "# 创建本地 LLM\n",
    "local_llm = HuggingFacePipeline(pipeline=pipe)\n",
    "\n",
    "# 创建检索器\n",
    "retriever = db.as_retriever(search_kwargs={\"k\": 1})\n",
    "\n",
    "# 创建 QA 链\n",
    "qa_chain = RetrievalQA.from_chain_type(\n",
    "    llm=local_llm, \n",
    "    chain_type=\"stuff\", \n",
    "    retriever=retriever, \n",
    "    return_source_documents=True\n",
    ")"
   ]
  },
  {
   "cell_type": "code",
   "execution_count": 8,
   "metadata": {},
   "outputs": [],
   "source": [
    "from operator import itemgetter\n",
    "\n",
    "from langchain.prompts import ChatPromptTemplate\n",
    "from langchain.chat_models import ChatOpenAI\n",
    "from langchain.embeddings import OpenAIEmbeddings\n",
    "from langchain.vectorstores import FAISS\n",
    "from langchain.schema.output_parser import StrOutputParser\n",
    "from langchain.schema.runnable import RunnablePassthrough, RunnableLambda"
   ]
  },
  {
   "cell_type": "code",
   "execution_count": 9,
   "metadata": {},
   "outputs": [],
   "source": [
    "llm=local_llm\n",
    "template = \"\"\"You are an expert clinical assistant. You will receive a collection of clinical notes. Answer the question based only on the following context:\n",
    "\n",
    "Question: {question}\n",
    "\"\"\"\n",
    "prompt = ChatPromptTemplate.from_template(template)\n",
    "\n",
    "chain = (\n",
    "    {\"context\": retriever, \"question\": RunnablePassthrough()} \n",
    "    | prompt \n",
    "    | llm \n",
    "    | StrOutputParser()\n",
    ")"
   ]
  },
  {
   "cell_type": "code",
   "execution_count": 10,
   "metadata": {},
   "outputs": [
    {
     "data": {
      "text/plain": [
       "'Allergic to'"
      ]
     },
     "execution_count": 10,
     "metadata": {},
     "output_type": "execute_result"
    }
   ],
   "source": [
    "chain.invoke('What allergies did the patient have?')"
   ]
  },
  {
   "cell_type": "code",
   "execution_count": 10,
   "metadata": {},
   "outputs": [
    {
     "name": "stderr",
     "output_type": "stream",
     "text": [
      "/root/miniconda3/lib/python3.8/site-packages/langchain_core/_api/deprecation.py:139: LangChainDeprecationWarning: The method `BaseRetriever.get_relevant_documents` was deprecated in langchain-core 0.1.46 and will be removed in 0.3.0. Use invoke instead.\n",
      "  warn_deprecated(\n",
      "You seem to be using the pipelines sequentially on GPU. In order to maximize efficiency please use a dataset\n"
     ]
    },
    {
     "data": {
      "application/vnd.jupyter.widget-view+json": {
       "model_id": "717b2aa2db5e4ce2a0cbdf499abf62e7",
       "version_major": 2,
       "version_minor": 0
      },
      "text/plain": [
       "Saving the dataset (0/1 shards):   0%|          | 0/20 [00:00<?, ? examples/s]"
      ]
     },
     "metadata": {},
     "output_type": "display_data"
    }
   ],
   "source": [
    "#1227\n",
    "from datasets import Dataset\n",
    "questions= [\n",
    "    \"What will make patient return to the hospital?\",\n",
    "    \"What was patient found in left parietal?\",\n",
    "    \"What was patient diagnosed with?\",\n",
    "    \"What dose patient present from nursing home?\",\n",
    "    \"What was patient started on?\",\n",
    "    \"Does the patient have diabetes?\",\n",
    "    \"Did the patient have hypertension?\",\n",
    "    \"Does the 62-year-old man have drug allergies?\",\n",
    "    \"How old is the man with coronary artery disease and cirrhosis?\",\n",
    "    \"What was the troponin level of the 74-year-old man?\",\n",
    "    \"What was the left effusion noted with in the 74-year-old man?\",\n",
    "    \"When was the 62-year-old man diagnosed with HIT and Afib?\",\n",
    "    \"When did the 74-year-old man have an episode of melena?\",\n",
    "    \"Where was the embolic stroke located in the 62-year-old man?\",\n",
    "    \"Where did the 62-year-old man present from?\",\n",
    "    \"What was the INR level for the 74-year-old man?\",\n",
    "    \"When should the 43-year-old female see her cardiologist next?\",\n",
    "    \"What should patient do if he experiences chest pain or shortness of breath?\",\n",
    "    \"How many patients have diabetes?\",\n",
    "    \"What was the oxygen saturation level for the 74-year-old man?\"\n",
    "\n",
    "\n",
    "]\n",
    "\n",
    "\n",
    "ground_truths = [\n",
    "    [\"The patient will return to the hospital if experiencing chest pain, shortness of breath, high fever, or any mental status change.\"],\n",
    "    [\"He was found to have an embolic stroke in left parietal, left internal capsule region.\"],\n",
    "    [\"He was diagnosed with HIT and Afib.\"],\n",
    "    [\"Tachypnea for 2 days, intermittent fevers.\"],\n",
    "    [\"Dialysis.\"],\n",
    "    [\"Yes.\"],\n",
    "    [\"Yes.\"],\n",
    "    [\"No known allergies to drugs.\"],\n",
    "    [\"74-year-old.\"],\n",
    "    [\"troponin 1.5.\"],\n",
    "    [\"Bibasilar atelectasis, no evidence of pneumonia or congestive heart failure.\"],\n",
    "    [\"During post op period he was diagnosed with HIT and Afib.\"],\n",
    "    [\"On the night of admission.\"],\n",
    "    [\"Left parietal, left internal capsule region.\"],\n",
    "    [\"A nursing home.\"],\n",
    "    [\"1.4.\"],\n",
    "    [\"One week.\"],\n",
    "    [\"Return pt to hospital if patient experiences chest pain, shortness of breath or develops high fever.\"],\n",
    "    [\"2/Two patients.\"],\n",
    "    [\"100% on room air.\"]\n",
    "]\n",
    "answers = []\n",
    "contexts = []\n",
    "\n",
    "for query in questions:\n",
    "    answers.append(chain.invoke(query))\n",
    "    contexts.append([docs.page_content for docs in retriever.get_relevant_documents(query)])\n",
    "\n",
    "# 构建数据\n",
    "data = {\n",
    "    \"question\": questions,\n",
    "    \"answer\": answers,\n",
    "    \"contexts\": contexts,\n",
    "    \"ground_truths\": ground_truths\n",
    "}\n",
    "dataset = Dataset.from_dict(data)\n",
    "dataset.save_to_disk('1227txt')#22m11s"
   ]
  },
  {
   "cell_type": "code",
   "execution_count": 10,
   "metadata": {},
   "outputs": [
    {
     "name": "stderr",
     "output_type": "stream",
     "text": [
      "/root/miniconda3/lib/python3.8/site-packages/langchain_core/_api/deprecation.py:139: LangChainDeprecationWarning: The method `BaseRetriever.get_relevant_documents` was deprecated in langchain-core 0.1.46 and will be removed in 0.3.0. Use invoke instead.\n",
      "  warn_deprecated(\n",
      "You seem to be using the pipelines sequentially on GPU. In order to maximize efficiency please use a dataset\n"
     ]
    },
    {
     "data": {
      "application/vnd.jupyter.widget-view+json": {
       "model_id": "31e7627bd6ca4b84bc79c20bdbb7612a",
       "version_major": 2,
       "version_minor": 0
      },
      "text/plain": [
       "Saving the dataset (0/1 shards):   0%|          | 0/20 [00:00<?, ? examples/s]"
      ]
     },
     "metadata": {},
     "output_type": "display_data"
    }
   ],
   "source": [
    "#1031\n",
    "from datasets import Dataset\n",
    "questions= [\n",
    "    \"What is the 57-year-old patient's basic information?\",\n",
    "    \"How many patients have a history of hypertension?\",\n",
    "    \"Why did the patient come to the hospital?\",\n",
    "    \"When did the patient’s chest pain begin?\",\n",
    "    \"What was the left ventricular ejection fraction found during the echocardiogram?\",\n",
    "    \"Did the patient have no known drug allergies?\",\n",
    "    \"What did the patient use tobacco, alcohol, and other drug?\",\n",
    "    \"How many patients have a history of hypertension and hypercholesterolemia?\",\n",
    "    \"How many medications were given to the 35-year-old male patient in the ED?\",\n",
    "    \"How many patients reported no known drug allergies?\",\n",
    "    \"How many patients had elevated liver enzymes\",\n",
    "    \"How many patients were prescribed anticoagulants upon discharge?\",\n",
    "    \"What is the gender of the 57-year-old patient?\",\n",
    "    \"What symptom did the 57-year-old female present with?\",\n",
    "    \"At what time did the 57-year-old female arrive at the Emergency Room?\",\n",
    "    \"What was the 57-year-old female's blood pressure on admission?\",\n",
    "    \"What percentage lesion was found in the proximal LAD of the 57-year-old female?\",\n",
    "    \"Was the 57-year-old female started on heparin?\",\n",
    "    \"What anticoagulant was the 57-year-old female transitioned to?\",\n",
    "    \"What is the gender of the 35-year-old patient?\"\n",
    "]\n",
    "\n",
    "\n",
    "ground_truths = [\n",
    "    [\"The patient was a 57-year-old female with a history of hypertension and hypercholesterolemia but no prior coronary artery disease history who presented with chest pain.\"],\n",
    "    [\"2/Two patients.\"],\n",
    "    [\"She came due to chest pain that started at 4:00 p.m.\"],\n",
    "    [\"At 4:00 p.m. on the day of admission.\"],\n",
    "    [\"She was found to have an ejection fraction of 0-35%.\"],\n",
    "    [\"Yes\"],\n",
    "    [\"The patient reported no tobacco use and denied any alcohol or other drug use.\"],\n",
    "    [\"1\"],\n",
    "    [\"Three medications.\"],\n",
    "    [\"2/Two patients.\"],\n",
    "    [\"2/Two patients.\"],\n",
    "    [\"2/Two patients.\"],\n",
    "    [\"Female.\"],\n",
    "    [\"Chest pain.\"],\n",
    "    [\"At 8:00 p.m.\"],\n",
    "    [\"146/88.\"],\n",
    "    [\"90%.\"],\n",
    "    [\"Yes.\"],\n",
    "    [\"Coumadin\"],\n",
    "    [\"Male.\"]\n",
    "    \n",
    "]\n",
    "answers = []\n",
    "contexts = []\n",
    "\n",
    "for query in questions:\n",
    "    answers.append(chain.invoke(query))\n",
    "    contexts.append([docs.page_content for docs in retriever.get_relevant_documents(query)])\n",
    "\n",
    "# 构建数据\n",
    "data = {\n",
    "    \"question\": questions,\n",
    "    \"answer\": answers,\n",
    "    \"contexts\": contexts,\n",
    "    \"ground_truths\": ground_truths\n",
    "}\n",
    "dataset = Dataset.from_dict(data)\n",
    "dataset.save_to_disk('1031txt')#20m14"
   ]
  },
  {
   "cell_type": "code",
   "execution_count": 10,
   "metadata": {},
   "outputs": [
    {
     "name": "stderr",
     "output_type": "stream",
     "text": [
      "/root/miniconda3/lib/python3.8/site-packages/langchain_core/_api/deprecation.py:139: LangChainDeprecationWarning: The method `BaseRetriever.get_relevant_documents` was deprecated in langchain-core 0.1.46 and will be removed in 0.3.0. Use invoke instead.\n",
      "  warn_deprecated(\n",
      "You seem to be using the pipelines sequentially on GPU. In order to maximize efficiency please use a dataset\n"
     ]
    },
    {
     "data": {
      "application/vnd.jupyter.widget-view+json": {
       "model_id": "e78e2ddc96584fa0a5bdd71d2f3a5c93",
       "version_major": 2,
       "version_minor": 0
      },
      "text/plain": [
       "Saving the dataset (0/1 shards):   0%|          | 0/20 [00:00<?, ? examples/s]"
      ]
     },
     "metadata": {},
     "output_type": "display_data"
    }
   ],
   "source": [
    "#1025\n",
    "from datasets import Dataset\n",
    "questions= [\n",
    "    \"What did the chest x-ray show?\",\n",
    "    \"What is the patient’s code status?\",\n",
    "    \"What did the patient undergo?\",\n",
    "    \"What are the patient's primary medical problems?\",\n",
    "    \"What imaging studies were performed?\",\n",
    "    \"When was the patient made DNR/DNI?\",\n",
    "    \"What did serial chest x-ray show?\",\n",
    "    \"What is the age of the female patient mentioned in the document?\",\n",
    "    \"What was the patient's blood pressure upon examination?\",\n",
    "    \"What was the heart rate at the time of initial examination?\",\n",
    "    \"What was the pCO2 level?\",\n",
    "    \"What was the patient’s initial temperature?\",\n",
    "    \"What did the EKG show?\",\n",
    "    \"What was the patient's alcohol and tobacco use history?\",\n",
    "    \"What did spinal imaging reveal?\",\n",
    "    \"What was the newborn’s bilirubin level on day six?\",\n",
    "    \"What was the result of the newborn’s car seat screening test?\",\n",
    "    \"How many types of antibiotics were administered to the newborn?\",\n",
    "    \"How many types of follow-up visits were planned for the myocardial infarction patient?\",\n",
    "    \"How many patients took Aspirin?\"\n",
    "]\n",
    "\n",
    "\n",
    "ground_truths = [\n",
    "    [\"Moderate cardiomegaly with some bilateral opacifications in the left upper and right upper lobes with multifocal pneumonia.\"],\n",
    "    [\"he patient was made DNR/DNI after multiple discussions with her family.\"],\n",
    "    [\"The patient underwent a sleep and swallow study and modified barium study.\"],\n",
    "    [\"Multiple medical problems including atrial fibrillation, chronic obstructive pulmonary disease, coronary artery disease, congestive heart failure.\"],\n",
    "    [\"Chest X-rays, chest CT Scan, Spinal Imaging, MRI.\"],\n",
    "    [\"the patient was made DNR/DNI after multiple discussions with her family, as well as proxyholder.\"],\n",
    "    [\"Serial chest x-ray showed moderate cardiomegaly with some bilateral opacifications in the left upper and right upper lobes with multifocal pneumonia.\"],\n",
    "    [\"81 years old.\"],\n",
    "    [\"92/64.\"],\n",
    "    [\"96 to 120.\"],\n",
    "    [\"pCO2 of 50.\"],\n",
    "    [\"98.6 degrees Fahrenheit.\"],\n",
    "    [\"EKG showed atrial fibrillation at 120, with poor R-wave progression with left axis deviation, pseudochanges in T waves in V1 through V3.\"],\n",
    "    [\"Denies alcohol and tobacco use.\"],\n",
    "    [\"Lytic destruction of the T10 vertebral body posterior elements with soft tissue density minimally enhancing mass lesion.\"],\n",
    "    [\"Total 5.5, direct 0.3.\"],\n",
    "    [\"The infant passed in both ears.\"],\n",
    "    [\"2/two\"],\n",
    "    [\"2/two\"],\n",
    "    [\"1/one patient.\"]]\n",
    "answers = []\n",
    "contexts = []\n",
    "\n",
    "for query in questions:\n",
    "    answers.append(chain.invoke(query))\n",
    "    contexts.append([docs.page_content for docs in retriever.get_relevant_documents(query)])\n",
    "\n",
    "# 构建数据\n",
    "data = {\n",
    "    \"question\": questions,\n",
    "    \"answer\": answers,\n",
    "    \"contexts\": contexts,\n",
    "    \"ground_truths\": ground_truths\n",
    "}\n",
    "dataset = Dataset.from_dict(data)\n",
    "dataset.save_to_disk('1025txt')#10m35s"
   ]
  },
  {
   "cell_type": "code",
   "execution_count": 10,
   "metadata": {},
   "outputs": [
    {
     "name": "stderr",
     "output_type": "stream",
     "text": [
      "/root/miniconda3/lib/python3.8/site-packages/langchain_core/_api/deprecation.py:139: LangChainDeprecationWarning: The method `BaseRetriever.get_relevant_documents` was deprecated in langchain-core 0.1.46 and will be removed in 0.3.0. Use invoke instead.\n",
      "  warn_deprecated(\n",
      "You seem to be using the pipelines sequentially on GPU. In order to maximize efficiency please use a dataset\n"
     ]
    },
    {
     "data": {
      "application/vnd.jupyter.widget-view+json": {
       "model_id": "965a36b394b2464fb7dc361460591895",
       "version_major": 2,
       "version_minor": 0
      },
      "text/plain": [
       "Saving the dataset (0/1 shards):   0%|          | 0/20 [00:00<?, ? examples/s]"
      ]
     },
     "metadata": {},
     "output_type": "display_data"
    }
   ],
   "source": [
    "#1019\n",
    "from datasets import Dataset\n",
    "questions= [\n",
    "    \"What is the patient's past medical history?\",\n",
    "    \"How many patients had a family history of stroke?\",\n",
    "    \"What is the patient's vital signs on arrival at the hospital?\",\n",
    "    \"What is the patient's diagnosis?\",\n",
    "    \"Who found the patient unresponsive?\",\n",
    "    \"Where was the patient transferred to after being found unresponsive?\",\n",
    "    \"What was the patient's condition upon arrival at the hospital?\",\n",
    "    \"What condition did another sister of the patient have?\",\n",
    "    \"What is the patient's pulse rate on arrival?\",\n",
    "    \"What was the left pupil's measurement with light exposure?\",\n",
    "    \"Was the right corneal reflex present?\",\n",
    "    \"What was the sodium level in the electrolytes?\",\n",
    "    \"What was the potassium level in the electrolytes?\",\n",
    "    \"What is the size of the left thalamus hemorrhage?\",\n",
    "    \"Was a Foley catheter placed in the patient?\",\n",
    "    \"What medications were maintained for the patient for comfort?\",\n",
    "    \"Was the patient a candidate for neurosurgical intervention?\",\n",
    "    \"What are the medical conditions of the patient's sisters?\",\n",
    "    \"What is the age of the patient?\",\n",
    "    \"What are the results of the patient’s electrolyte and renal function tests?\"\n",
    "]\n",
    "\n",
    "\n",
    "ground_truths = [\n",
    "    [\"The patient has a history of hypertension and hypercholesterolemia.\"],\n",
    "    [\"1/One patient.\"],\n",
    "    [\"Temperature 97.0, blood pressure 133/77, pulse 51, respiratory rate 14.\"],\n",
    "    [\"The patient is an 83-year-old female with a history of hypertension, hypercholesterolemia, who presented with a large intraparenchymal cerebral hemorrhage complicated by obstructive hydrocephalus.\"],\n",
    "    [\"A neighbor.\"],\n",
    "    [\"Hospital.\"],\n",
    "    [\"Unconscious, with a flaccid right side, staring to the left, and incontinent of urine.\"],\n",
    "    [\"Multiple sclerosis.\"],\n",
    "    [\"51.\"],\n",
    "    [\"3.0 mm, decreasing to 2.5 mm.\"],\n",
    "    [\"No, she had a left corneal reflex, and no right corneal reflex.\"],\n",
    "    [\"142.\"],\n",
    "    [\"Potassium|.0\"],\n",
    "    [\"5.2 cm x 3 cm.\"],\n",
    "    [\"Yes, it remained in place.\"],\n",
    "    [\"Lorazepam, Morphine, Tylenol.\"],\n",
    "    [\"No.\"],\n",
    "    [\"One sister has a brain hemorrhage status post evacuation, and another sister had multiple sclerosis.\"],\n",
    "    [\"83 years old.\"],\n",
    "    [\"Sodium 142, potassium|.0, chloride 106, bicarb 21, BUN 15, creatinine 0.6, glucose|45.\"]]\n",
    "answers = []\n",
    "contexts = []\n",
    "\n",
    "for query in questions:\n",
    "    answers.append(chain.invoke(query))\n",
    "    contexts.append([docs.page_content for docs in retriever.get_relevant_documents(query)])\n",
    "\n",
    "# 构建数据\n",
    "data = {\n",
    "    \"question\": questions,\n",
    "    \"answer\": answers,\n",
    "    \"contexts\": contexts,\n",
    "    \"ground_truths\": ground_truths\n",
    "}\n",
    "dataset = Dataset.from_dict(data)\n",
    "dataset.save_to_disk('1019txt')#16m19s"
   ]
  },
  {
   "cell_type": "code",
   "execution_count": 11,
   "metadata": {},
   "outputs": [
    {
     "data": {
      "text/html": [
       "<div>\n",
       "<style scoped>\n",
       "    .dataframe tbody tr th:only-of-type {\n",
       "        vertical-align: middle;\n",
       "    }\n",
       "\n",
       "    .dataframe tbody tr th {\n",
       "        vertical-align: top;\n",
       "    }\n",
       "\n",
       "    .dataframe thead th {\n",
       "        text-align: right;\n",
       "    }\n",
       "</style>\n",
       "<table border=\"1\" class=\"dataframe\">\n",
       "  <thead>\n",
       "    <tr style=\"text-align: right;\">\n",
       "      <th></th>\n",
       "      <th>question</th>\n",
       "      <th>answer</th>\n",
       "      <th>contexts</th>\n",
       "      <th>ground_truths</th>\n",
       "    </tr>\n",
       "  </thead>\n",
       "  <tbody>\n",
       "    <tr>\n",
       "      <th>0</th>\n",
       "      <td>What is the patient's past medical history?</td>\n",
       "      <td>Human: You are an expert clinical assistant. Y...</td>\n",
       "      <td>[Patient is an 83-year-old female with a histo...</td>\n",
       "      <td>[The patient has a history of hypertension and...</td>\n",
       "    </tr>\n",
       "    <tr>\n",
       "      <th>1</th>\n",
       "      <td>How many patients had a family history of stroke?</td>\n",
       "      <td>Human: You are an expert clinical assistant. Y...</td>\n",
       "      <td>[Patient is an 83-year-old female with a histo...</td>\n",
       "      <td>[1/One patient.]</td>\n",
       "    </tr>\n",
       "    <tr>\n",
       "      <th>2</th>\n",
       "      <td>What is the patient's vital signs on arrival a...</td>\n",
       "      <td>Human: You are an expert clinical assistant. Y...</td>\n",
       "      <td>[Patient is an 83-year-old female with a histo...</td>\n",
       "      <td>[Temperature 97.0, blood pressure 133/77, puls...</td>\n",
       "    </tr>\n",
       "    <tr>\n",
       "      <th>3</th>\n",
       "      <td>What is the patient's diagnosis?</td>\n",
       "      <td>Human: You are an expert clinical assistant. Y...</td>\n",
       "      <td>[Patient is an 83-year-old female with a histo...</td>\n",
       "      <td>[The patient is an 83-year-old female with a h...</td>\n",
       "    </tr>\n",
       "    <tr>\n",
       "      <th>4</th>\n",
       "      <td>Who found the patient unresponsive?</td>\n",
       "      <td>Human: You are an expert clinical assistant. Y...</td>\n",
       "      <td>[Patient is an 83-year-old female with a histo...</td>\n",
       "      <td>[A neighbor.]</td>\n",
       "    </tr>\n",
       "  </tbody>\n",
       "</table>\n",
       "</div>"
      ],
      "text/plain": [
       "                                            question  \\\n",
       "0        What is the patient's past medical history?   \n",
       "1  How many patients had a family history of stroke?   \n",
       "2  What is the patient's vital signs on arrival a...   \n",
       "3                   What is the patient's diagnosis?   \n",
       "4                Who found the patient unresponsive?   \n",
       "\n",
       "                                              answer  \\\n",
       "0  Human: You are an expert clinical assistant. Y...   \n",
       "1  Human: You are an expert clinical assistant. Y...   \n",
       "2  Human: You are an expert clinical assistant. Y...   \n",
       "3  Human: You are an expert clinical assistant. Y...   \n",
       "4  Human: You are an expert clinical assistant. Y...   \n",
       "\n",
       "                                            contexts  \\\n",
       "0  [Patient is an 83-year-old female with a histo...   \n",
       "1  [Patient is an 83-year-old female with a histo...   \n",
       "2  [Patient is an 83-year-old female with a histo...   \n",
       "3  [Patient is an 83-year-old female with a histo...   \n",
       "4  [Patient is an 83-year-old female with a histo...   \n",
       "\n",
       "                                       ground_truths  \n",
       "0  [The patient has a history of hypertension and...  \n",
       "1                                   [1/One patient.]  \n",
       "2  [Temperature 97.0, blood pressure 133/77, puls...  \n",
       "3  [The patient is an 83-year-old female with a h...  \n",
       "4                                      [A neighbor.]  "
      ]
     },
     "metadata": {},
     "output_type": "display_data"
    }
   ],
   "source": [
    "dataset\n",
    "ragas_input_df = dataset.to_pandas()\n",
    "display(ragas_input_df.head())"
   ]
  },
  {
   "cell_type": "code",
   "execution_count": 10,
   "metadata": {},
   "outputs": [
    {
     "name": "stderr",
     "output_type": "stream",
     "text": [
      "/root/miniconda3/lib/python3.8/site-packages/langchain_core/_api/deprecation.py:139: LangChainDeprecationWarning: The method `BaseRetriever.get_relevant_documents` was deprecated in langchain-core 0.1.46 and will be removed in 0.3.0. Use invoke instead.\n",
      "  warn_deprecated(\n",
      "You seem to be using the pipelines sequentially on GPU. In order to maximize efficiency please use a dataset\n"
     ]
    },
    {
     "data": {
      "application/vnd.jupyter.widget-view+json": {
       "model_id": "defaec3f11924471b27943e2129e6c2c",
       "version_major": 2,
       "version_minor": 0
      },
      "text/plain": [
       "Saving the dataset (0/1 shards):   0%|          | 0/20 [00:00<?, ? examples/s]"
      ]
     },
     "metadata": {},
     "output_type": "display_data"
    }
   ],
   "source": [
    "#832\n",
    "from datasets import Dataset\n",
    "questions= [\n",
    "    \"What cardiovascular conditions does the patient have?\",\n",
    "    \"What was the patient’s heart rate during the examination?\",\n",
    "    \"Does the patient have a history of diabetes?\",\n",
    "    \"What is the patient’s blood pressure on examination?\",\n",
    "    \"What is the patient’s baseline creatinine level? \",\n",
    "    \"What is the patient's primary language?\",\n",
    "    \"Does the patient have a history of myocardial infarction?\",\n",
    "    \"What heart procedure did the patient have in addition to myocardial infarction?\",\n",
    "    \"Has the patient had coronary artery bypass surgery?\",\n",
    "    \"How often should the patient take Percocet for pain?\",\n",
    "    \"Did the patient have any cyanosis, clubbing, or edema in the extremities?\",\n",
    "    \"Was there any history of penicillin-induced rash?\",\n",
    "    \"Was Protonix prescribed to the patient?\",\n",
    "    \"How many patients were on Lipitor?\",\n",
    "    \"How many patients had a history of hepatitis?\",\n",
    "    \"How many patients had a history of smoking?\",\n",
    "    \"How many patients had their INR tested?\",\n",
    "    \"How many patients had a history of hypercholesterolemia?\",\n",
    "    \"What was the patient’s platelet count in preoperative laboratories?\",\n",
    "    \"Was there a family history of CVA?\"\n",
    "]\n",
    "\n",
    "\n",
    "ground_truths = [\n",
    "    [\"Coronary artery disease, myocardial infarction, percutaneous transluminal coronary angioplasty with a stent.\"],\n",
    "    [\"72.\"],\n",
    "    [\"Yes, the patient has a history of insulin-dependent diabetes mellitus.\"],\n",
    "    [\"139/65\"],\n",
    "    [\"1.3\"],\n",
    "    [\"Spanish.\"],\n",
    "    [\"Yes.\"],\n",
    "    [\"Percutaneous transluminal coronary angioplasty with a stent.\"],\n",
    "    [\"Yes.\"],\n",
    "    [\"Percocet 5/325-mg tablets one to two tablets by mouth q.4h. as needed (for pain)\"],\n",
    "    [\"No.\"],\n",
    "    [\"Yes.\"],\n",
    "    [\"Yes.\"],\n",
    "    [\"1/one patient\"],\n",
    "    [\"1/one patient\"],\n",
    "    [\"2/two patients\"],\n",
    "    [\"2/two patients\"],\n",
    "    [\"2/two patients\"],\n",
    "    [\"303,000\"],\n",
    "    [\"Yes.\"]\n",
    "\n",
    "]\n",
    "answers = []\n",
    "contexts = []\n",
    "\n",
    "for query in questions:\n",
    "    answers.append(chain.invoke(query))\n",
    "    contexts.append([docs.page_content for docs in retriever.get_relevant_documents(query)])\n",
    "\n",
    "# 构建数据\n",
    "data = {\n",
    "    \"question\": questions,\n",
    "    \"answer\": answers,\n",
    "    \"contexts\": contexts,\n",
    "    \"ground_truths\": ground_truths\n",
    "}\n",
    "dataset = Dataset.from_dict(data)\n",
    "dataset.save_to_disk('832txt')#10m41s"
   ]
  },
  {
   "cell_type": "code",
   "execution_count": 11,
   "metadata": {},
   "outputs": [
    {
     "name": "stderr",
     "output_type": "stream",
     "text": [
      "/root/miniconda3/lib/python3.8/site-packages/langchain_core/_api/deprecation.py:139: LangChainDeprecationWarning: The method `BaseRetriever.get_relevant_documents` was deprecated in langchain-core 0.1.46 and will be removed in 0.3.0. Use invoke instead.\n",
      "  warn_deprecated(\n",
      "You seem to be using the pipelines sequentially on GPU. In order to maximize efficiency please use a dataset\n"
     ]
    },
    {
     "data": {
      "application/vnd.jupyter.widget-view+json": {
       "model_id": "46b241f35f684ad587f31202052ded2e",
       "version_major": 2,
       "version_minor": 0
      },
      "text/plain": [
       "Saving the dataset (0/1 shards):   0%|          | 0/20 [00:00<?, ? examples/s]"
      ]
     },
     "metadata": {},
     "output_type": "display_data"
    }
   ],
   "source": [
    "#826\n",
    "from datasets import Dataset\n",
    "questions= [\n",
    "    \"Does the patient have any known drug allergies?\",\n",
    "    \"Did the elderly female patient have a history of smoking?\",\n",
    "    \"What was the patient's glucose level at 01:55 AM?\",\n",
    "    \"What was the baby’s birth weight?\",\n",
    "    \"Has the patient got a history of diabetes?\",\n",
    "    \"How many doses of surfactant did the baby receive?\",\n",
    "    \"Did the patient take imaging studies?\",\n",
    "    \"What was the baby’s white blood cell count?\",\n",
    "    \"What follow-up care was recommended for the baby?\",\n",
    "    \"How many patients had an arterial blood gas analysis?\",\n",
    "    \"How many patients had a history of gastritis?\",\n",
    "    \"How many patients experienced respiratory issues?\",\n",
    "    \"How many patients were admitted to the ICU?\",\n",
    "    \"What was the baby girl’s initial arterial blood gas pH?\",\n",
    "    \"What was the result of the baby girl’s blood culture?\",\n",
    "    \"Was the elderly female patient eventually transferred back to the ICU?\",\n",
    "    \"Did the baby girl pass the hearing screening?\",\n",
    "    \"What was the baby's initial treatment for suspected infection?\",\n",
    "    \"What was the baby girl’s gestational age at birth?\",\n",
    "    \"Did the baby girl have any cardiovascular issues?\"\n",
    "]\n",
    "\n",
    "\n",
    "ground_truths = [\n",
    "    [\"Patient recorded as having No Known Allergies to Drugs.\"],\n",
    "    [\"Yes, the elderly female patient had a prior 70 pack year smoking history.\"],\n",
    "    [\"Glucose-159.\"],\n",
    "    [\"2615 grams.\"],\n",
    "    [\"Yes.\"],\n",
    "    [\"One dose of surfactant.\"],\n",
    "    [\"Yes.\"],\n",
    "    [\"8\"],\n",
    "    [\"Follow-up appointment with pediatrician within two days of discharge from the hospital.\"],\n",
    "    [\"2/Two patients\"],\n",
    "    [\"1/One patient\"],\n",
    "    [\"2/Two patients\"],\n",
    "    [\"1/One patient\"],\n",
    "    [\"7.37.\"],\n",
    "    [\"Negative.\"],\n",
    "    [\"Yes, she did.\"],\n",
    "    [\"Yes, she passed the hearing screening.\"],\n",
    "    [\"Ampicillin and gentamicin.\"],\n",
    "    [\"28 weeks and 2 days.\"],\n",
    "    [\"No.\"]\n",
    "]\n",
    "answers = []\n",
    "contexts = []\n",
    "\n",
    "for query in questions:\n",
    "    answers.append(chain.invoke(query))\n",
    "    contexts.append([docs.page_content for docs in retriever.get_relevant_documents(query)])\n",
    "\n",
    "# 构建数据\n",
    "data = {\n",
    "    \"question\": questions,\n",
    "    \"answer\": answers,\n",
    "    \"contexts\": contexts,\n",
    "    \"ground_truths\": ground_truths\n",
    "}\n",
    "dataset = Dataset.from_dict(data)\n",
    "dataset.save_to_disk('826txt')#19m44s"
   ]
  },
  {
   "cell_type": "code",
   "execution_count": 10,
   "metadata": {},
   "outputs": [
    {
     "name": "stderr",
     "output_type": "stream",
     "text": [
      "/root/miniconda3/lib/python3.8/site-packages/langchain_core/_api/deprecation.py:139: LangChainDeprecationWarning: The method `BaseRetriever.get_relevant_documents` was deprecated in langchain-core 0.1.46 and will be removed in 0.3.0. Use invoke instead.\n",
      "  warn_deprecated(\n",
      "You seem to be using the pipelines sequentially on GPU. In order to maximize efficiency please use a dataset\n"
     ]
    },
    {
     "data": {
      "application/vnd.jupyter.widget-view+json": {
       "model_id": "2619c414f1ab4f0fa305965189765433",
       "version_major": 2,
       "version_minor": 0
      },
      "text/plain": [
       "Saving the dataset (0/1 shards):   0%|          | 0/20 [00:00<?, ? examples/s]"
      ]
     },
     "metadata": {},
     "output_type": "display_data"
    }
   ],
   "source": [
    "#629\n",
    "from datasets import Dataset\n",
    "questions= [\n",
    "    \"Does the patient have any known drug allergies?\",\n",
    "    \"How often does the patient consume alcohol?\",\n",
    "    \"What symptoms should prompt the patient to call the doctor's office or seek immediate medical attention?\",\n",
    "    \"What are the current findings regarding the chest tubes?\",\n",
    "    \"Are there any new lung findings on the recent imaging?\",\n",
    "    \"What should the patient do regarding tube feeds?\",\n",
    "    \"Did the patient take imaging studies?\",\n",
    "    \"What is the patient's heart rate on admission?\",\n",
    "    \"What are the patient's vital signs on admission?\",\n",
    "    \"Was the patient in distress on admission?\",\n",
    "    \"How long should the patient remain NPO with tube feeds?\",\n",
    "    \"How long was the patient on antibiotics?\",\n",
    "    \"How many patients took Dilantin?\",\n",
    "    \"How many patients took Keppra?\",\n",
    "    \"What was observed in the patient's head CT scan?\",\n",
    "    \"What procedure did the patient have for the CBD stone?\",\n",
    "    \"How many patients were admitted to ICU?\",\n",
    "    \"What were the patient's symptoms that led to the CT scan?\",\n",
    "    \"What medication should the patient continue to take as an outpatient for heart health?\",\n",
    "    \"What was the patient’s LDL level?\"\n",
    "]\n",
    "\n",
    "\n",
    "ground_truths = [\n",
    "    [\"No,patient recorded as having no known allergies to drugs.\"],\n",
    "    [\"Five times per week(+EtOH 5x/wk).\"],\n",
    "    [\"Fever, chest pain, shortness of breath, nausea, vomiting, constipation, abdominal pain, diarrhea.\"],\n",
    "    [\"Two left-sided chest tubes are in unchanged position. A tiny left apical pneumothorax is stable in appearance. A small left-sided pleural effusion and atelectasis within the left lower lobe are unchanged.\"],\n",
    "    [\"No new opacities are seen within the lungs.\"],\n",
    "    [\"The patient should remain NPO (nothing by mouth) and continue with tube feeds for the next 3 weeks, as per VNA instructions.\"],\n",
    "    [\"Yes.\"],\n",
    "    [\"121 bpm.\"],\n",
    "    [\"Temperature 97°F, heart rate 121 bpm, blood pressure 190/90 mmHg, respiratory rate 18, oxygen saturation 96% on 2L oxygen.\"],\n",
    "    [\"Yes\"],\n",
    "    [\"3 weeks.\"],\n",
    "    [\"1\"],\n",
    "    [\"1\"],\n",
    "    [\"Atrophy, no acute changes.\"],\n",
    "    [\"Cholangioscopy\"],\n",
    "    [\"2\"],\n",
    "    [\"Left hemiparesis involving face, arm, and leg; seizure involving left eye deviation and movement of the left arm.\"],\n",
    "    [\"Aspirin and beta blocker.\"],\n",
    "    [\"2\"],\n",
    "    [\"LDL was 104.\"]\n",
    "]\n",
    "answers = []\n",
    "contexts = []\n",
    "\n",
    "for query in questions:\n",
    "    answers.append(chain.invoke(query))\n",
    "    contexts.append([docs.page_content for docs in retriever.get_relevant_documents(query)])\n",
    "\n",
    "# 构建数据\n",
    "data = {\n",
    "    \"question\": questions,\n",
    "    \"answer\": answers,\n",
    "    \"contexts\": contexts,\n",
    "    \"ground_truths\": ground_truths\n",
    "}\n",
    "dataset = Dataset.from_dict(data)\n",
    "dataset.save_to_disk('629txt')#13m"
   ]
  },
  {
   "cell_type": "code",
   "execution_count": 11,
   "metadata": {},
   "outputs": [
    {
     "name": "stderr",
     "output_type": "stream",
     "text": [
      "You seem to be using the pipelines sequentially on GPU. In order to maximize efficiency please use a dataset\n"
     ]
    },
    {
     "data": {
      "application/vnd.jupyter.widget-view+json": {
       "model_id": "4cf5e521f8ed4ae189fc53b5a7abf6c1",
       "version_major": 2,
       "version_minor": 0
      },
      "text/plain": [
       "Saving the dataset (0/1 shards):   0%|          | 0/20 [00:00<?, ? examples/s]"
      ]
     },
     "metadata": {},
     "output_type": "display_data"
    }
   ],
   "source": [
    "#615\n",
    "from datasets import Dataset\n",
    "questions= [\n",
    "    \"What was the patient's initial blood pressure?\",\n",
    "    \"What caused the patient's motor vehicle collision?\",\n",
    "    \"What was the patient's GCS score upon arrival?\",\n",
    "    \"What were the injuries sustained by the patient?\",\n",
    "    \"Which ribs were fractured?\",\n",
    "    \"What were the results of the CT head scan for patient 2?\",\n",
    "    \"How many liters of crystalloid fluid were given?\",\n",
    "    \"Was the patient's splenic hilum intact?\",\n",
    "    \"What was the dosage of Zoloft prescribed?\",\n",
    "    \"Was the patient initially intubated?\",\n",
    "    \"Was the patient advised to follow up with a sleep clinic?\",\n",
    "    \"Was the patient advised to have a repeat video swallow study?\",\n",
    "    \"How many patients had a diagnosis of sleep apnea?\",\n",
    "    \"How many patients had a history of diabetes?\",\n",
    "    \"What were the findings of the patient’s sleep study?\",\n",
    "    \"What injuries did the patient sustain in the motor vehicle collision?\",\n",
    "    \"Was the patient wearing a seatbelt at the time of the collision?\",\n",
    "    \"What were the patient’s vital signs upon arrival at the hospital?\",\n",
    "    \"What did the CT scan show?\",\n",
    "    \"How often does the patient drink alcohol?\"\n",
    "]\n",
    "\n",
    "\n",
    "ground_truths = [\n",
    "    [\"82/palpable.\"],\n",
    "    [\"The patient fell asleep at the wheel.\"],\n",
    "    [\"The patient arrived with a GCS of 5.\"],\n",
    "    [\"The patient sustained a grade III/IV splenic laceration, small left pneumothorax, pulmonary contusions, left rib fractures (ribs eight, nine, and ten), small pelvic rami superior and inferior fracture with intramuscular hematoma.\"],\n",
    "    [\"Ribs eight, nine, and ten.\"],\n",
    "    [\"The patient's official CT read showed a splattered spleen with hemoperitoneum, grade III/IV splenic laceration, the hilum appeared to be intact.\"],\n",
    "    [\"6\"],\n",
    "    [\"Yes\"],\n",
    "    [\"Zoloft 50 mg p.o. once daily.\"],\n",
    "    [\"No\"],\n",
    "    [\"Yes\"],\n",
    "    [\"Yes, she was advised to have a repeat video swallow study.\"],\n",
    "    [\"1\"],\n",
    "    [\"1\"],\n",
    "    [\"The sleep study indicated significant nocturnal hypoventilation and hypoxemia, with evidence of severe chemoreflex-mediated sleep-disordered breathing.\"],\n",
    "    [\"The patient sustained a grade III/IV splenic laceration, small left pneumothorax, pulmonary contusions, left rib fractures of ribs eight, nine, and ten, and small pelvic rami superior and inferior fracture with intramuscular hematoma.\"],\n",
    "    [\"No, she was not wearing a seatbelt.\"],\n",
    "    [\"She was afebrile. The vital signs were stable, although the blood pressure was elevated at 200/90.\"],\n",
    "    [\"The patient's official CT read showed a splattered spleen with hemoperitoneum, grade III/IV splenic laceration, the hilum appeared to be intact.\"],\n",
    "    [\"The patient drinks three to four drinks two to three times per week.\"]]\n",
    "answers = []\n",
    "contexts = []\n",
    "\n",
    "for query in questions:\n",
    "    answers.append(chain.invoke(query))\n",
    "    contexts.append([docs.page_content for docs in retriever.get_relevant_documents(query)])\n",
    "\n",
    "# 构建数据\n",
    "data = {\n",
    "    \"question\": questions,\n",
    "    \"answer\": answers,\n",
    "    \"contexts\": contexts,\n",
    "    \"ground_truths\": ground_truths\n",
    "}\n",
    "dataset = Dataset.from_dict(data)\n",
    "dataset.save_to_disk('615txt')#19m42s"
   ]
  },
  {
   "cell_type": "code",
   "execution_count": 10,
   "metadata": {},
   "outputs": [
    {
     "name": "stderr",
     "output_type": "stream",
     "text": [
      "/root/miniconda3/lib/python3.8/site-packages/langchain_core/_api/deprecation.py:139: LangChainDeprecationWarning: The method `BaseRetriever.get_relevant_documents` was deprecated in langchain-core 0.1.46 and will be removed in 0.3.0. Use invoke instead.\n",
      "  warn_deprecated(\n",
      "You seem to be using the pipelines sequentially on GPU. In order to maximize efficiency please use a dataset\n"
     ]
    },
    {
     "data": {
      "application/vnd.jupyter.widget-view+json": {
       "model_id": "db966ea15ea845b09fd49f3be8054cf2",
       "version_major": 2,
       "version_minor": 0
      },
      "text/plain": [
       "Saving the dataset (0/1 shards):   0%|          | 0/20 [00:00<?, ? examples/s]"
      ]
     },
     "metadata": {},
     "output_type": "display_data"
    }
   ],
   "source": [
    "#601\n",
    "from datasets import Dataset\n",
    "questions= [\n",
    "    \"What is the patient's age?\",\n",
    "    \"What are the patient's past medical histories?\",\n",
    "    \"What did CXR show?\",\n",
    "    \"Why was she transferred to the CCU?\",\n",
    "    \"What did the patient transfer to the CCU for?\",\n",
    "    \"What was discovered during the patient's recent admission for jaw and chest pain?\",\n",
    "    \"What medications was the patient discharged with after the recent admission for jaw and chest pain?\",\n",
    "    \"What was the patient's condition upon her visit to the cardiology clinic?\",\n",
    "    \"What was the patient's heart rhythm and rate in the medicine floor telemetry?\",\n",
    "    \"What intervention was attempted in the CCU and what was the result?\",\n",
    "    \"What were the patient's discharge medications?\",\n",
    "    \"How many times a day was Lactulose prescribed?\",\n",
    "    \"How many tests indicated signs of myocardial injury?\",\n",
    "    \"Does the patient have a history of heart conditions?\",\n",
    "    \"Does the patient have a history of chronic diarrhea?\",\n",
    "    \"What was the patient’s WBC count?\",\n",
    "    \"How many patients have a history of MRSA?\",\n",
    "    \"Does the patient have a history of chronic diarrhea?\",\n",
    "    \"What was the estimated right atrial pressure?\",\n",
    "    \"How many patients took EEG?\"\n",
    "]\n",
    "\n",
    "\n",
    "ground_truths = [\n",
    "    [\"79.\"],\n",
    "    [\"A history of rheumatic heart disease, rapid atrial fibrillation (AFib), chronic obstructive pulmonary disease (COPD), and a significant smoking history.\"],\n",
    "    [\"CXR showed pulmonary edema.\"],\n",
    "    [\"The patient sustained a grade III/IV splenic laceration, small left pneumothorax, pulmonary contusions, left rib fractures (ribs eight, nine, and ten), small pelvic rami superior and inferior fracture with intramuscular hematoma.\"],\n",
    "    [\"The patient was transferred to the CCU for further monitoring and management.\"],\n",
    "    [\"A 40% proximal LAD lesion.\"],\n",
    "    [\"Diltiazem.\"],\n",
    "    [\"She was in rapid a-fib, with a rate near 150; admission for cardioversion was discussed at length, but the patient refused, so she was started on metoprolol 50mg, aspirin, and warfarin.\"],\n",
    "    [\"The telemetry showed AFib with rates to 50's, with periods of asystole lasting for a couple of seconds, during which the pt reported dizziness and nausea.\"],\n",
    "    [\"The plan at the CCU was to place a temporary pacer wire so that rate control therapy could be safely started once a back-up rhythm could be guaranteed by the temporary pacer. Venous cannulation was unable to be achieved at the bedside. However, during the attempts to place the venous cannula, the pt converted to sinus rhythm at 70-80 bpm.\"],\n",
    "    [\"Metoprolol, aspirin, and warfarin.\"],\n",
    "    [\"3\"],\n",
    "    [\"2\"],\n",
    "    [\"Yes\"],\n",
    "    [\"Yes\"],\n",
    "    [\"WBC-11.3\"],\n",
    "    [\"1\"],\n",
    "    [\"Yes\"],\n",
    "    [\"The estimated right atrial pressure is 11-15mmHg.\"],\n",
    "    [\"1\"]\n",
    "                 ]\n",
    "answers = []\n",
    "contexts = []\n",
    "\n",
    "for query in questions:\n",
    "    answers.append(chain.invoke(query))\n",
    "    contexts.append([docs.page_content for docs in retriever.get_relevant_documents(query)])\n",
    "\n",
    "# 构建数据\n",
    "data = {\n",
    "    \"question\": questions,\n",
    "    \"answer\": answers,\n",
    "    \"contexts\": contexts,\n",
    "    \"ground_truths\": ground_truths\n",
    "}\n",
    "dataset = Dataset.from_dict(data)\n",
    "dataset.save_to_disk('601txt')#10m47s"
   ]
  },
  {
   "cell_type": "code",
   "execution_count": 10,
   "metadata": {},
   "outputs": [
    {
     "name": "stderr",
     "output_type": "stream",
     "text": [
      "/root/miniconda3/lib/python3.8/site-packages/langchain_core/_api/deprecation.py:139: LangChainDeprecationWarning: The method `BaseRetriever.get_relevant_documents` was deprecated in langchain-core 0.1.46 and will be removed in 0.3.0. Use invoke instead.\n",
      "  warn_deprecated(\n",
      "You seem to be using the pipelines sequentially on GPU. In order to maximize efficiency please use a dataset\n"
     ]
    },
    {
     "data": {
      "application/vnd.jupyter.widget-view+json": {
       "model_id": "a8873c7352744aaa962be24e31b9a4bb",
       "version_major": 2,
       "version_minor": 0
      },
      "text/plain": [
       "Saving the dataset (0/1 shards):   0%|          | 0/20 [00:00<?, ? examples/s]"
      ]
     },
     "metadata": {},
     "output_type": "display_data"
    }
   ],
   "source": [
    "#563\n",
    "from datasets import Dataset\n",
    "questions= [\n",
    "    \"What is the patient's age?\",\n",
    "    \"What were her vital signs in the emergency room?\",\n",
    "    \"What was the patient’s systolic blood pressure on arrival?\",\n",
    "    \"Is the patient scheduled to follow up with a pulmonologist?\",\n",
    "    \"Did the patient receive medications in the emergency room?\",\n",
    "    \"Did the patient take imaging studies?\",\n",
    "    \"Was imaging done to assess the patient's lung condition?\",\n",
    "    \"Did the patient report any symptoms of fever or chills?\",\n",
    "    \"What was the patient’s oxygen saturation upon discharge?\",\n",
    "    \"Was there any mention of smoking in the patient’s history?\",\n",
    "    \"Did the patient have a history of smoking?\",\n",
    "    \"How many patients had a history of diabetes mellitus?\",\n",
    "    \"How many patients had a history of smoking?\",\n",
    "    \"How many patients had a history of heart disease or related surgeries?\",\n",
    "    \"How many patients were treated for pneumonia?\",\n",
    "    \"How many patients had a history of hypertension?\",\n",
    "    \"Was the patient’s ECG monitored?\",\n",
    "    \"What were the findings on the MRI?\",\n",
    "    \"How many episodes of hypotension did the patient experience?\",\n",
    "    \"What is the patient's platelet count?\"\n",
    "]\n",
    "\n",
    "ground_truths = [\n",
    "    [\"55\"],\n",
    "    [\"Temperature 97.3°F, heart rate 109, blood pressure 101/69, respiratory rate 20, oxygen level 98% on 6 liters of oxygen, 94% on room air.\"],\n",
    "    [\"101 mmHg\"],\n",
    "    [\"Yes, she is scheduled to follow up with a pulmonologist.\"],\n",
    "    [\"Yes, she was treated with Combivent nebulizations three times, received 5 liters of normal saline intravenously, was given Levofloxacin 500 mg intravenously for suspected pneumonia, and received Solumedrol 125 mg intravenously to reduce airway inflammation.\"],\n",
    "    [\"Yes\"],\n",
    "    [\"Yes, chest X-ray was performed.\"],\n",
    "    [\"No, the patient denied having fever or chills.\"],\n",
    "    [\"100% 2L NC.\"],\n",
    "    [\"Yes\"],\n",
    "    [\"Yes\"],\n",
    "    [\"2\"],\n",
    "    [\"1\"],\n",
    "    [\"2\"],\n",
    "    [\"2\"],\n",
    "    [\"2\"],\n",
    "    [\"Yes\"],\n",
    "    [\"MRI showed a systolic artery calcified with a multilobar aspiration pneumonia.\"],\n",
    "    [\"2\"],\n",
    "    [\"62\"]\n",
    "                 ]\n",
    "answers = []\n",
    "contexts = []\n",
    "\n",
    "for query in questions:\n",
    "    answers.append(chain.invoke(query))\n",
    "    contexts.append([docs.page_content for docs in retriever.get_relevant_documents(query)])\n",
    "\n",
    "# 构建数据\n",
    "data = {\n",
    "    \"question\": questions,\n",
    "    \"answer\": answers,\n",
    "    \"contexts\": contexts,\n",
    "    \"ground_truths\": ground_truths\n",
    "}\n",
    "dataset = Dataset.from_dict(data)\n",
    "dataset.save_to_disk('563txt')#8m51s"
   ]
  },
  {
   "cell_type": "code",
   "execution_count": 10,
   "metadata": {},
   "outputs": [
    {
     "name": "stderr",
     "output_type": "stream",
     "text": [
      "/root/miniconda3/lib/python3.8/site-packages/langchain_core/_api/deprecation.py:139: LangChainDeprecationWarning: The method `BaseRetriever.get_relevant_documents` was deprecated in langchain-core 0.1.46 and will be removed in 0.3.0. Use invoke instead.\n",
      "  warn_deprecated(\n",
      "You seem to be using the pipelines sequentially on GPU. In order to maximize efficiency please use a dataset\n"
     ]
    },
    {
     "data": {
      "application/vnd.jupyter.widget-view+json": {
       "model_id": "32434954c04b4461bb68cdf05aa2bb6d",
       "version_major": 2,
       "version_minor": 0
      },
      "text/plain": [
       "Saving the dataset (0/1 shards):   0%|          | 0/20 [00:00<?, ? examples/s]"
      ]
     },
     "metadata": {},
     "output_type": "display_data"
    }
   ],
   "source": [
    "#417\n",
    "from datasets import Dataset\n",
    "questions= [\n",
    "    \"What is the age and gender of the patient with COPD?\",\n",
    "    \"What are the patient’s known medical histories?\",\n",
    "    \"What is the patient’s vital signs on presentation?\",\n",
    "    \"What were the patient's main symptoms upon presenting to the Emergency Department?\",\n",
    "    \"What is the diagnosis for this patient?\",\n",
    "    \"What did the patient's chest X-ray show?\",\n",
    "    \"Does the patient have a history of smoking?\",\n",
    "    \"What is the patient’s platelet count?\",\n",
    "    \"What medications were prescribed upon discharge?\",\n",
    "    \"What is the age and gender of the patient with TTP?\",\n",
    "    \"What was the patient's temperature in the Emergency Department?\",\n",
    "    \"How many days was the patient initially started on Levaquin for community-acquired pneumonia?\",\n",
    "    \"Did the patient have a fever upon admission?\",\n",
    "    \"What was the patient’s respiratory rate upon admission?\",\n",
    "    \"How many patients had a history of anemia?\",\n",
    "    \"How many patients were treated with medications for nausea?\",\n",
    "    \"How many patients had a history of chronic illness (e.g., COPD, diabetes)?\",\n",
    "    \"How many patients took a multivitamin?\",\n",
    "    \"How many patients had a smoking history?\",\n",
    "    \"How many patients had a fever?\"\n",
    "]\n",
    "\n",
    "ground_truths = [\n",
    "    [\"The patient is an 89-year-old male.\"],\n",
    "    [\"89-year-old male with a history of chronic obstructive pulmonary disease and ITP.\"],\n",
    "    [\"Temperature 100.5°F, blood pressure 99/50, heart rate 126, respiratory rate 34 (decreasing to 22 with nebulizer treatment), O2 saturation 94% on 2 liters.\"],\n",
    "    [\"He presented to the Emergency Department after a few hour history of chest and abdominal discomfort, increasing shortness of breath, and nausea with an episode of vomiting x1. He notes chest pressure with radiation to the back into the left arm, severity and associated epigastric discomfort with nausea and vomiting x1 in the Emergency Department.\"],\n",
    "    [\"Pneumonia, COPD exacerbation, acute myocardial infarction, hypotension.Famotidine, Fosamax, calcium, vitamin D, and prednisone.\"],\n",
    "    [\"Left lower lung zone opacity, mild congestive heart failure.\"],\n",
    "    [\"Yes, approximately 70 pack-year history of smoking.\"],\n",
    "    [\"116.\"],\n",
    "    [\"Acetaminophen, Docusate sodium, Fluoxetine, Prilosec, Multivitamin, Olanzapine, Atorvastatin, Salmeterol, Metoprolol, Nitroglycerin, Combivent inhaler, Prednisone taper, Albuterol nebulizer treatments, Ipratropium nebulizer, Haldol, Enteric coated aspirin.\"],\n",
    "    [\"24-year-old female.\"],\n",
    "    [\"101.7\"],\n",
    "    [\"14\"],\n",
    "    [\"Yes, she had a fever with a temperature of 101.7°F\"],\n",
    "    [\"42\"],\n",
    "    [\"2\"],\n",
    "    [\"2\"],\n",
    "    [\"2\"],\n",
    "    [\"1\"],\n",
    "    [\"2\"],\n",
    "    [\"2\"]\n",
    "                 ]\n",
    "answers = []\n",
    "contexts = []\n",
    "\n",
    "for query in questions:\n",
    "    answers.append(chain.invoke(query))\n",
    "    contexts.append([docs.page_content for docs in retriever.get_relevant_documents(query)])\n",
    "\n",
    "# 构建数据\n",
    "data = {\n",
    "    \"question\": questions,\n",
    "    \"answer\": answers,\n",
    "    \"contexts\": contexts,\n",
    "    \"ground_truths\": ground_truths\n",
    "}\n",
    "dataset = Dataset.from_dict(data)\n",
    "dataset.save_to_disk('417txt')#12m2s"
   ]
  },
  {
   "cell_type": "code",
   "execution_count": 12,
   "metadata": {},
   "outputs": [
    {
     "name": "stderr",
     "output_type": "stream",
     "text": [
      "/root/miniconda3/lib/python3.8/site-packages/langchain_core/_api/deprecation.py:139: LangChainDeprecationWarning: The method `BaseRetriever.get_relevant_documents` was deprecated in langchain-core 0.1.46 and will be removed in 0.3.0. Use invoke instead.\n",
      "  warn_deprecated(\n",
      "You seem to be using the pipelines sequentially on GPU. In order to maximize efficiency please use a dataset\n"
     ]
    },
    {
     "data": {
      "application/vnd.jupyter.widget-view+json": {
       "model_id": "d92facae64a34f0694c78942dcaf8de0",
       "version_major": 2,
       "version_minor": 0
      },
      "text/plain": [
       "Saving the dataset (0/1 shards):   0%|          | 0/20 [00:00<?, ? examples/s]"
      ]
     },
     "metadata": {},
     "output_type": "display_data"
    }
   ],
   "source": [
    "#403\n",
    "from datasets import Dataset\n",
    "questions= [\n",
    "    \"What is the patient's age?\",\n",
    "    \"Does the patient have any known drug allergies?\",\n",
    "    \"What was the temperature of the patient at nursing home?\",\n",
    "    \"What findings were noted on the CXR?\",\n",
    "    \"Who was scheduled for the patient's follow-up care?\",\n",
    "    \"What measures were taken for the patient during his hospital stay?\",\n",
    "    \"What was the patient's temperature in the ER?\",\n",
    "    \"What was the patient's tobacco, alcohol, and illicit drug use history?\",\n",
    "    \"Did the patient have a fever?\",\n",
    "    \"What should the patient do if they have worsening seizures after discharge?\",\n",
    "    \"Does the patient have a history of tobacco use?\",\n",
    "    \"Did the patient have a negative head CT?\",\n",
    "    \"What type of rash does the patient have?\",\n",
    "    \"How did the patient's mental status change after seizure treatment?\",\n",
    "    \"Was there evidence of osteomyelitis in the patient's stage IV sacral decubitus ulcer?\",\n",
    "    \"What was the plan for the patient's insulin therapy after hypoglycemia episodes?\",\n",
    "    \"What did the patient's Doppler exam show about the IVC?\",\n",
    "    \"Why was the patient intubated?\",\n",
    "    \"What were the results of the patient’s sputum cultures?\",\n",
    "    \"Were the patient’s seizures controlled?\"\n",
    "]\n",
    "\n",
    "ground_truths = [\n",
    "    [\"64 years old\"],\n",
    "    [\"No known drug allergies\"],\n",
    "    [\"99.6°F\"],\n",
    "    [\"CXR showed new LLL opacity.\"],\n",
    "    [\"neurologist Dr.\"],\n",
    "    [\"During his hospital stay his LFTs/bili and coags remained stable.  He underwent an abdominal U/S of liver w/ normal TIPS evaluation with wall-to-wall flow. No ascites identified.  He was continued on lactulose and rifaxamin.\"],\n",
    "    [\"98.9°F\"],\n",
    "    [\"Remote tobacco history, no alcohol or illicit drug use\"],\n",
    "    [\"Denies fever\"],\n",
    "    [\"If they experiece any worsening of their seizure frequency, develop new types of seizures, develop changes in mental status, weakness, changes in sensation, vision, or language, and severe headaches, vertigo, or anything else that concerns you seriously.\"],\n",
    "    [\"Yes, remote tobacco history.\"],\n",
    "    [\"Yes, he had a neg head CT.\"],\n",
    "    [\"Maculopapular rash on back\"],\n",
    "    [\"His mental status started to improve significantly.\"],\n",
    "    [\"No evidence of osteomyelitis per X-ray.\"],\n",
    "    [\"He was temporarily taken off home lantus as had episodes of hypoglycemia. He was restarted on his home dose of lantus without problem.\"],\n",
    "    [\"IVC demonstrates patency with triphasic waveforms.\"],\n",
    "    [\"He was intubated for airway protection\"],\n",
    "    [\"Sputum cultures were positive for klebsiella, proteus, sensitive to meropenem, zosyn and tobra\"],\n",
    "    [\"Yes.\"]\n",
    "                 ]\n",
    "answers = []\n",
    "contexts = []\n",
    "\n",
    "for query in questions:\n",
    "    answers.append(chain.invoke(query))\n",
    "    contexts.append([docs.page_content for docs in retriever.get_relevant_documents(query)])\n",
    "\n",
    "# 构建数据\n",
    "data = {\n",
    "    \"question\": questions,\n",
    "    \"answer\": answers,\n",
    "    \"contexts\": contexts,\n",
    "    \"ground_truths\": ground_truths\n",
    "}\n",
    "dataset = Dataset.from_dict(data)\n",
    "dataset.save_to_disk('403txt')#13m40s"
   ]
  },
  {
   "cell_type": "code",
   "execution_count": 10,
   "metadata": {},
   "outputs": [
    {
     "name": "stderr",
     "output_type": "stream",
     "text": [
      "/root/miniconda3/lib/python3.8/site-packages/langchain_core/_api/deprecation.py:139: LangChainDeprecationWarning: The method `BaseRetriever.get_relevant_documents` was deprecated in langchain-core 0.1.46 and will be removed in 0.3.0. Use invoke instead.\n",
      "  warn_deprecated(\n",
      "You seem to be using the pipelines sequentially on GPU. In order to maximize efficiency please use a dataset\n"
     ]
    },
    {
     "data": {
      "application/vnd.jupyter.widget-view+json": {
       "model_id": "d862bdea49b24f0a8139e4f38e00d59d",
       "version_major": 2,
       "version_minor": 0
      },
      "text/plain": [
       "Saving the dataset (0/1 shards):   0%|          | 0/20 [00:00<?, ? examples/s]"
      ]
     },
     "metadata": {},
     "output_type": "display_data"
    }
   ],
   "source": [
    "#371\n",
    "from datasets import Dataset\n",
    "questions= [\n",
    "    \"What are the discharge instructions for the patient?\",\n",
    "    \"What surgery did the patient undergo?\",\n",
    "    \"What medications is the patient prescribed?\",\n",
    "    \"How was the patient's lung and heart status postoperatively?\",\n",
    "    \"What conditions did patient get a history of?\",\n",
    "    \"What type of aneurysm is described?\",\n",
    "    \"What is the prescribed dose of Percocet?\",\n",
    "    \"What is the diameter of the abdominal aortic aneurysm mentioned?\",\n",
    "    \"What imaging technique showed no signs of CHF postoperatively?\",\n",
    "    \"Where was the patient intubated postoperatively?\",\n",
    "    \"What medication is given to prevent blood clots?\",\n",
    "    \"How much Lasix is the patient taking daily?\",\n",
    "    \"What is the patient's history of cardiovascular disease?\",\n",
    "    \"What medication is prescribed for managing high blood pressure?\",\n",
    "    \"What was noted about the patient’s skin during the physical examination?\",\n",
    "    \"What is the purpose of the PICC line mentioned in the discharge instructions?\",\n",
    "    \"What is the patient's HbA1c level?\",\n",
    "    \"What did the bronchoscopy show?\",\n",
    "    \"What did the right calf show?\",\n",
    "    \"What is the dosage of Vancomycin administered?\"\n",
    "]\n",
    "\n",
    "ground_truths = [[\"Patient will be discharged to home with instructions to followup with Dr.  in  weeks, and he will have a follow-up CT angiogram here in about one month.\"],\n",
    "                 [\"An endovascular repair for an abdominal aortic aneurysm.\"],\n",
    "                 [\"Atorvastatin 20 mg daily, Colchicine 0.6 mg daily, Digoxin 0.25 mg daily, Lasix 120 mg daily, Lopressor XL 150 mg daily, Moexipril 7.5 mg daily, Percocet 1-2 tablets every 4-6 hours as needed, Coumadin 5 mg daily at bedtime, Levaquin 500 mg daily for 10 days\"],\n",
    "                 [\"The patient's pulmonary status improved after the diuresis, and patient subsequently underwent a bronch, which showed no plugging, no secretions, and no signs of CHF.\"],\n",
    "                 [\"Coronary artery disease, CHF,Abdominal aortic aneurysm\"],\n",
    "                 [\"Abdominal aortic aneurysm.\"],\n",
    "                 [\"1-2 tablets every 4-6 hours as needed.\"],\n",
    "                 [\"Approximately 5.6 cm infrarenal in diameter.\"],\n",
    "                 [\"Bronchoscopy (bronch) showed no plugging, no secretions, and no signs of CHF.\"],\n",
    "                 [\"In the PACU\"],\n",
    "                 [\"Coumadin.\"],\n",
    "                 [\"Lasix 120 mg p.o. q.d. daily\"],\n",
    "                 [\"Coronary artery disease and CHF.\"],\n",
    "                 [\"Medications for managing high blood pressure: Vancomycin, Zosyn, and a dose of a drug called a clot.\"],\n",
    "                 [\"Dry, flaking feet.\"],\n",
    "                 [\"To administer medications and fluids.\"],\n",
    "                 [\"5.3%.\"],\n",
    "                 [\"No plugging, no secretions.\"],\n",
    "                 [\"MRI: 1.4 x 1.2 x 1.0 cm complex cystic lesion without definite flow within or around it. The lesion contains floating echogenic debris but no solid nodular component. The ankle mortise is preserved. There is no abnormal soft tissue gas.\"],\n",
    "                 [\"Vancomycin 1000 mg IV HD PROTOCOL\"]]\n",
    "answers = []\n",
    "contexts = []\n",
    "\n",
    "for query in questions:\n",
    "    answers.append(chain.invoke(query))\n",
    "    contexts.append([docs.page_content for docs in retriever.get_relevant_documents(query)])\n",
    "\n",
    "# 构建数据\n",
    "data = {\n",
    "    \"question\": questions,\n",
    "    \"answer\": answers,\n",
    "    \"contexts\": contexts,\n",
    "    \"ground_truths\": ground_truths\n",
    "}\n",
    "dataset = Dataset.from_dict(data)\n",
    "dataset.save_to_disk('371txt')#13m"
   ]
  },
  {
   "cell_type": "code",
   "execution_count": 10,
   "metadata": {},
   "outputs": [
    {
     "name": "stderr",
     "output_type": "stream",
     "text": [
      "/root/miniconda3/lib/python3.8/site-packages/langchain_core/_api/deprecation.py:139: LangChainDeprecationWarning: The method `BaseRetriever.get_relevant_documents` was deprecated in langchain-core 0.1.46 and will be removed in 0.3.0. Use invoke instead.\n",
      "  warn_deprecated(\n",
      "You seem to be using the pipelines sequentially on GPU. In order to maximize efficiency please use a dataset\n"
     ]
    },
    {
     "data": {
      "application/vnd.jupyter.widget-view+json": {
       "model_id": "6c9bf6382e804ec3936ff29bc0795064",
       "version_major": 2,
       "version_minor": 0
      },
      "text/plain": [
       "Saving the dataset (0/1 shards):   0%|          | 0/20 [00:00<?, ? examples/s]"
      ]
     },
     "metadata": {},
     "output_type": "display_data"
    }
   ],
   "source": [
    "#359\n",
    "from datasets import Dataset\n",
    "questions= [\n",
    "    \"How old is the patient?\",\n",
    "    \"What surgery did the patient undergo?\",\n",
    "    \"What is the patient's blood pressure?\",\n",
    "    \"What allergies did the patient have?\",\n",
    "    \"What imaging studies were performed on the patient?\",\n",
    "    \"Has the patient got a history of diabetes\",\n",
    "    \"Were there any problems after the operation?\",\n",
    "    \"Why was the patient admitted for elective surgery again?\",\n",
    "    \"What was the patient’s intraoperative blood loss?\",\n",
    "    \"What medications was the patient taking before the recent admission?\",\n",
    "    \"What was the patient’s INR level?\",\n",
    "    \"What was the patient's respiratory rate?\",\n",
    "    \"What was the patient's oxygen saturation on room air?\",\n",
    "    \"What were the results of the Chem-7 panel?\",\n",
    "    \"Was the patient febrile?\",\n",
    "    \"What did the oropharynx examination reveal?\",\n",
    "    \"What did the cardiac examination reveal?\",\n",
    "    \"What did the chest X-ray show?\",\n",
    "    \"Was the head CT scan result normal?\",\n",
    "    \"What is the patient’s code status in the second case?\"\n",
    "]\n",
    "\n",
    "ground_truths = [\n",
    "    ['76'],\n",
    "    ['Elective hip surgery, specifically an open reduction and internal fixation of the left hip, for revision due to nonunion of a previous hip fracture'],\n",
    "    ['BP 156/70'],\n",
    "    ['The patient is allergic to sulfa drugs, which cause a rash.'],\n",
    "    ['Chest x-ray,CT scan of the head'],\n",
    "    ['Yes'],\n",
    "    ['No, there were no complications.'],\n",
    "    [\"Due to nonunion of the previous hip fracture.\"],\n",
    "    [\"900mL\"],\n",
    "    [\"Atenolol 50 mg daily, perphenazine 7.5 mg twice daily, Tagamet, and aspirin.\"],\n",
    "    [\"28.4%.\"],\n",
    "    [\"1.3.\"],\n",
    "    [\"16\"],\n",
    "    [\"96%.\"],\n",
    "    [\"Sodium: 141, Potassium: 4.7, Chloride: 110, Bicarbonate: 22, Creatinine: 0.4.\"],\n",
    "    [\"No, the patient remained afebrile.\"],\n",
    "    [\"The oropharynx was clear.\"],\n",
    "    [\"The cardiac exam showed an irregularly irregular rhythm and borderline tachycardia.\"],\n",
    "    [\"The chest X-ray showed ventricular enlargement and possible early CHF.\"],\n",
    "    [\"DNR/DNO\"]]\n",
    "answers = []\n",
    "contexts = []\n",
    "\n",
    "for query in questions:\n",
    "    answers.append(chain.invoke(query))\n",
    "    contexts.append([docs.page_content for docs in retriever.get_relevant_documents(query)])\n",
    "\n",
    "# 构建数据\n",
    "data = {\n",
    "    \"question\": questions,\n",
    "    \"answer\": answers,\n",
    "    \"contexts\": contexts,\n",
    "    \"ground_truths\": ground_truths\n",
    "}\n",
    "dataset = Dataset.from_dict(data)\n",
    "dataset.save_to_disk('359txt')#18m"
   ]
  },
  {
   "cell_type": "code",
   "execution_count": 13,
   "metadata": {},
   "outputs": [
    {
     "name": "stderr",
     "output_type": "stream",
     "text": [
      "/root/miniconda3/lib/python3.8/site-packages/langchain_core/_api/deprecation.py:139: LangChainDeprecationWarning: The method `BaseRetriever.get_relevant_documents` was deprecated in langchain-core 0.1.46 and will be removed in 0.3.0. Use invoke instead.\n",
      "  warn_deprecated(\n",
      "You seem to be using the pipelines sequentially on GPU. In order to maximize efficiency please use a dataset\n"
     ]
    },
    {
     "data": {
      "application/vnd.jupyter.widget-view+json": {
       "model_id": "09aaca134a184662b936cc4ab06a46de",
       "version_major": 2,
       "version_minor": 0
      },
      "text/plain": [
       "Saving the dataset (0/1 shards):   0%|          | 0/20 [00:00<?, ? examples/s]"
      ]
     },
     "metadata": {},
     "output_type": "display_data"
    }
   ],
   "source": [
    "#239\n",
    "from datasets import Dataset\n",
    "questions= [\n",
    "    \"What are the patient's vital signs upon admission?\",\n",
    "    \"What are the main medical conditions of the adult patient?\",\n",
    "    \"What is the patient's blood pressure upon admission?\",\n",
    "    \"Does the patient have any allergies?\",\n",
    "    \"What are the patient's conditions?\",\n",
    "    \"What was the infant's birth weight?\",\n",
    "    \"What is the patient's current heart rate?\",\n",
    "    \"What ventilation settings are used for the preterm infant on day five of life?\",\n",
    "    \"How was the infant’s surfactant therapy administered?\",\n",
    "    \"What is the management for severe mitral regurgitation?\",\n",
    "    \"What is the recommended action for the patient with low blood sugar and heart failure?\",\n",
    "    \"When did the infant switch back to conventional ventilation?\",\n",
    "    \"What were the measurements recorded for the infant's head circumference at birth?\",\n",
    "    \"What does the presence of harsh heart sounds in the adult patient suggest?\",\n",
    "    \"What medication is the patient taking for anticoagulation?\",\n",
    "    \"What is the oxygen saturation level of the patient?\",\n",
    "    \"How many doses of surfactant did the infant receive?\",\n",
    "    \"What are the patient’s bowel sounds described as?\",\n",
    "    \"What medication should be stopped for the patient with low blood sugar?\",\n",
    "    \"What was the patient’s temperature at right heart catheterization?\"\n",
    "]\n",
    "\n",
    "ground_truths = [[\"BP 149/86, heart rate 72, respiratory rate 16, and saturations 100%, intubated on ventilator.\"],\n",
    "                 [\"The adult patient has a history of rheumatic heart disease, status post aortic valve replacement (AVR), mitral valve replacement (MVR), and coronary artery bypass grafting (CABG) of one vessel. The patient is also on Coumadin (warfarin).\"],\n",
    "                 [\"129/83 mmHg\"],\n",
    "                 [\"No known allergies.\"],\n",
    "                 [\"Intubated, young-appearing man attempting to pull at the ET tube with his left hand. HEENT: Nonicteric. Neck: Supple, no carotid bruits. Chest was clear to auscultation. Cardiovascular: Regular rate and rhythm, harsh S1 and S2 sounds, no murmur. Abdomen: Soft, nontender, positive bowel sounds. Extremities: No edema. Neurologically: Does not open eyes to voice or painful stimulation. Cranial nerves: Pupils| mm down to 1 bilaterally. EOMs full. Positive doll's eyes. Corneal reflexes: Absent bilaterally. Facial symmetry: ET restricts the lower face, but upper face appears wrinkling, symmetrically. Gag reflex: Gagging on the ET. Motor: Increased tone in all four extremities. Moves left side spontaneously, reaching and grabbing for the ET tube with the left hand. No spontaneous movement of the right hemibody. Decerebrate posturing of the right arm with pain and flexes knees and ankle with pain applied to both legs. Purposely withdraws, localizes with the left arm.\"],\n",
    "                 [\"1005 gm\"],\n",
    "                 [\"92 beats per minute\"],\n",
    "                 [\"Low ventilatory settings with pressures of 17/5, rate 22, FIO2 .3 to 0.4\"],\n",
    "                 [\"He received three doses of surfactant.\"],\n",
    "                 [\"Severe MR\"],\n",
    "                 [\"Stop taking your avandia as your blood sugar has been low and it is not the best medication for you considering your heart failure.\"],\n",
    "                 [\"On day five of life.\"],\n",
    "                 [\"27 cm, greater than 50th percentile.\"],\n",
    "                 [\"Harsh S1 and S2 sounds.\"],\n",
    "                 [\"Coumadin.\"],\n",
    "                 [\"100%\"],\n",
    "                 [\"Three\"],\n",
    "                 [\"Positive bowel sounds.\"],\n",
    "                 [\"avandia\"],\n",
    "                 [\"97.5°F.\"]\n",
    "]\n",
    "answers = []\n",
    "contexts = []\n",
    "\n",
    "for query in questions:\n",
    "    answers.append(chain.invoke(query))\n",
    "    contexts.append([docs.page_content for docs in retriever.get_relevant_documents(query)])\n",
    "\n",
    "# 构建数据\n",
    "data = {\n",
    "    \"question\": questions,\n",
    "    \"answer\": answers,\n",
    "    \"contexts\": contexts,\n",
    "    \"ground_truths\": ground_truths\n",
    "}\n",
    "dataset = Dataset.from_dict(data)\n",
    "dataset.save_to_disk('239txt')#10m47"
   ]
  },
  {
   "cell_type": "code",
   "execution_count": 11,
   "metadata": {},
   "outputs": [
    {
     "name": "stderr",
     "output_type": "stream",
     "text": [
      "/root/miniconda3/lib/python3.8/site-packages/langchain_core/_api/deprecation.py:139: LangChainDeprecationWarning: The method `BaseRetriever.get_relevant_documents` was deprecated in langchain-core 0.1.46 and will be removed in 0.3.0. Use invoke instead.\n",
      "  warn_deprecated(\n",
      "You seem to be using the pipelines sequentially on GPU. In order to maximize efficiency please use a dataset\n"
     ]
    },
    {
     "data": {
      "application/vnd.jupyter.widget-view+json": {
       "model_id": "d24d1ea60a624084843966ad7fe0fdb4",
       "version_major": 2,
       "version_minor": 0
      },
      "text/plain": [
       "Saving the dataset (0/1 shards):   0%|          | 0/20 [00:00<?, ? examples/s]"
      ]
     },
     "metadata": {},
     "output_type": "display_data"
    }
   ],
   "source": [
    "#211\n",
    "from datasets import Dataset\n",
    "questions= [\n",
    "    \"What are the patient's vital signs upon admission?\",\n",
    "    \"What medication was given for pain management in the elderly patient?\",\n",
    "    \"What is the patient's blood pressure reading?\",\n",
    "    \"Does the patient have any allergies?\",\n",
    "    \"What follow-up was recommended for the patient after discharge?\",\n",
    "    \"What imaging studies were performed on the patient?\",\n",
    "    \"What was the patient's condition upon arrival to the trauma bay?\",\n",
    "    \"How was the patient injured?\",\n",
    "    \"Does the patient use tobacco or alcohol?\",\n",
    "    \"What is the medical history of the patient's mother?\",\n",
    "    \"What were the findings of the neurological exam?\",\n",
    "    \"What were the lung exam findings?\",\n",
    "    \"What were the results of the patient's C-spine, chest, abdomen, and pelvis CT?\",\n",
    "    \"What was the neurosurgery consultation's recommendation?\",\n",
    "    \"What were the results of the patient's cervical spine MRI?\",\n",
    "    \"What was the recommendation for the patient's cervical collar?\",\n",
    "    \"What were the discharge instructions for the patient?\",\n",
    "    \"What was the status of the patient's mucous membranes (MM)?\",\n",
    "    \"What was the treatment plan for the patient's cellulitis?\",\n",
    "    \"What was the treatment plan for the patient’s urinary tract infection (UTI)?\"\n",
    "]\n",
    "\n",
    "ground_truths = [[\"The patient was hypotensive with sbp in 80's, given 2 units of packed cells and 1 liter of fluids and pressure up to low 100's. Heart rate in the 90's. Afebrile, Lactate 1.8.\"],\n",
    "                 [\"Acetaminophen 325 mg Tablet, 1-2 Tablets PO Q4-6H (every 4 to 6 hours) as needed for pain.\"],\n",
    "                 [\"The patient was hypotensive with SBP in 80's, given 2 units of packed cells and 1 liter of fluids and pressure up to low 100's.\"],\n",
    "                 [\"No known allergies.\"],\n",
    "                 [\"Outpatient CT scan to be done in 2 weeks. Follow up in clinic in 2 weeks after CT scan is done. No need to follow up in trauma clinic but you may call the clinic at  with any questions.\"],\n",
    "                 [\"Pt taken for emergent head, C-spine, chest/abd/pelvis CT.\"],\n",
    "                 [\"On arrival to trauma bay pt with GCS of with waxing and waning of mental status.\"],\n",
    "                 [\"Struck by car\"],\n",
    "                 [\"Occasional tobacco use (cigarettes) Denies EtOH use\"],\n",
    "                 [\"Mother had gastric cancer.\"],\n",
    "                 [\"Neuro: alert, mild distress, following commands, GCS\"],\n",
    "                 [\"Lungs: CTA bilat, equal BS\"],\n",
    "                 [\"CT of C-spine, chest/abd/pelvis all negative.\"],\n",
    "                 [\"Neurosurgery consulted and pt loaded on Dilantin and started on Dilantin 100 IV TID.\"],\n",
    "                 [\"MRI of C-spine showed no fractures or ligamentous injuries.\"],\n",
    "                 [\"C-collar d/c'ed.\"],\n",
    "                 [\"Return to emergency room if having severe headaches or headaches not controlled with pain meds, if having excessive sleepiness or changes in mental status, avoid any physical activity that may put you at risk for repeat head injury, no driving while taking Percocet\"],\n",
    "                 [\"MM dry.\"],\n",
    "                 [\"Keflex for 14 days total, elevation of the RLE, and dry dressing changes.\"],\n",
    "                 [\"Cultures grew out pan-sensitive enterococcus. The Keflex being given for her cellulitis should prove able to clear this UTI as well.\"]\n",
    "\n",
    "]\n",
    "answers = []\n",
    "contexts = []\n",
    "\n",
    "for query in questions:\n",
    "    answers.append(chain.invoke(query))\n",
    "    contexts.append([docs.page_content for docs in retriever.get_relevant_documents(query)])\n",
    "\n",
    "# 构建数据\n",
    "data = {\n",
    "    \"question\": questions,\n",
    "    \"answer\": answers,\n",
    "    \"contexts\": contexts,\n",
    "    \"ground_truths\": ground_truths\n",
    "}\n",
    "dataset = Dataset.from_dict(data)\n",
    "dataset.save_to_disk('211txt')#10m16s"
   ]
  },
  {
   "cell_type": "code",
   "execution_count": 10,
   "metadata": {},
   "outputs": [
    {
     "name": "stderr",
     "output_type": "stream",
     "text": [
      "/root/miniconda3/lib/python3.8/site-packages/langchain_core/_api/deprecation.py:139: LangChainDeprecationWarning: The method `BaseRetriever.get_relevant_documents` was deprecated in langchain-core 0.1.46 and will be removed in 0.3.0. Use invoke instead.\n",
      "  warn_deprecated(\n",
      "You seem to be using the pipelines sequentially on GPU. In order to maximize efficiency please use a dataset\n"
     ]
    },
    {
     "data": {
      "application/vnd.jupyter.widget-view+json": {
       "model_id": "2e870bf8ec9a45949432c44e40b59d98",
       "version_major": 2,
       "version_minor": 0
      },
      "text/plain": [
       "Saving the dataset (0/1 shards):   0%|          | 0/20 [00:00<?, ? examples/s]"
      ]
     },
     "metadata": {},
     "output_type": "display_data"
    }
   ],
   "source": [
    "#205\n",
    "from datasets import Dataset\n",
    "questions= [\n",
    "    \"What is the patient's history of coronary artery disease?\",\n",
    "    \"What allergie did the patient have?\",\n",
    "    \"What imaging studies were performed on the patient?\",\n",
    "    \"What medication is the patient taking?\",\n",
    "    \"What were the results of chest CT?\",\n",
    "    \"What follow-up instructions were given to the patient?\",\n",
    "    \"How much coffee ground material was found during the nasogastric lavage?\",\n",
    "    \"What change in blood pressure was noted in the patient?\",\n",
    "    \"How was the patient's nausea relieved before hospitalization?\",\n",
    "    \"Did the patient have a history of peptic ulcer disease or gastroesophageal reflux disease?\",\n",
    "    \"What were the patient’s vital signs at the time of examination?\",\n",
    "    \"What did the neck examination reveal?\",\n",
    "    \"What were the findings of the lung examination?\",\n",
    "    \"What did the H. pylori test result indicate?\",\n",
    "    \"What were the findings from the chest x-ray?\",\n",
    "    \"What treatment was provided for the urinary tract infection?\",\n",
    "    \"What medications were included in the patient’s discharge plan?\",\n",
    "    \"What medications did the patient receive for his urinary tract infection?\",\n",
    "    \"What was the patient's PT and PTT levels?\",\n",
    "    \"What was noted about the patient's neck during the examination?\"\n",
    "\n",
    "\n",
    "]\n",
    "\n",
    "ground_truths = [[\"He has a history of coronary artery disease status post coronary artery bypass graft and multiple stents.\"],\n",
    "                 [\"No known drug allergies.\"],\n",
    "                 [\"Chest and pelvic x-rays were normal. Head CT was negative. Abdominal CT was within normal limits. Chest CT showed a right pneumothorax.\"],\n",
    "                 [\"Methadone 5 mg po b.i.d. for five days only with Ibuprofen 400 mg t.i.d. Cefalexin 500 mg b.i.d. times four days. Pantoprazole 40 mg po q.d. Dilaudid 2 mg po q 6 hours prn for five days.\"],\n",
    "                 [\"Chest CT showed a right pneumothorax.\"],\n",
    "                 [\"The patient can follow up at the Trauma Clinic if there are any new developments with the wounds or problems relating to this injury. Otherwise he is to obtain a primary care physician for long term healthcare.The patient was instructed to call Dr. to set up a follow-up appointment in 4 weeks. The results of the blood test should be faxed to Dr. at .The patient needs to have a blood test done in about one week, and the results should be faxed to Dr. .The discharge plan includes moving to a Skilled Nursing Facility, which will be mentioned in the discharge addendum.\"],\n",
    "                 [\"One liter of coffee grounds which did not clear with lavage.\"],\n",
    "                 [\"His systolic blood pressures also dropped from 130 to 90\"],\n",
    "                 [\"Zantac over-the-counter.\"],\n",
    "                 [\"He has no known history of peptic ulcer disease or gastroesophageal reflux disease.\"],\n",
    "                 [\"Temperature 98.1, blood pressure 118/62, heart rate 71, respirations 18, O2 saturation 99% on two liters.\"],\n",
    "                 [\"Right IJ in place, noted to be clean, dry and intact without erythema.\"],\n",
    "                 [\"Clear to auscultation bilaterally with the exception of decreased breath sounds at the basis.\"],\n",
    "                 [\"H. pylori negative.\"],\n",
    "                 [\"Small bilateral pleural effusions and atelectasis with compression/collapse of the basilar left lung associated with an elevated left hemi-diaphragm.\"],\n",
    "                 [\"The patient was started on Levofloxacin 500 mg q day for a urinary tract infection secondary to coag negative staphylococcus.\"],\n",
    "                 [\"The patient’s discharge medications will be found on his page one form as well as on the discharge addendum.\"],\n",
    "                 [\"A liter of coffee grounds that did not clear with lavage.\"],\n",
    "                 [\"PT-11.6, PTT-23.5.\"],\n",
    "                 [\"Right IJ in place, noted to be clean, dry and intact without erythema.\"]]\n",
    "answers = []\n",
    "contexts = []\n",
    "\n",
    "for query in questions:\n",
    "    answers.append(chain.invoke(query))\n",
    "    contexts.append([docs.page_content for docs in retriever.get_relevant_documents(query)])\n",
    "\n",
    "# 构建数据\n",
    "data = {\n",
    "    \"question\": questions,\n",
    "    \"answer\": answers,\n",
    "    \"contexts\": contexts,\n",
    "    \"ground_truths\": ground_truths\n",
    "}\n",
    "dataset = Dataset.from_dict(data)\n",
    "dataset.save_to_disk('t5-205txt')#28m30.4"
   ]
  },
  {
   "cell_type": "code",
   "execution_count": 10,
   "metadata": {},
   "outputs": [
    {
     "name": "stderr",
     "output_type": "stream",
     "text": [
      "/root/miniconda3/lib/python3.8/site-packages/langchain_core/_api/deprecation.py:139: LangChainDeprecationWarning: The method `BaseRetriever.get_relevant_documents` was deprecated in langchain-core 0.1.46 and will be removed in 0.3.0. Use invoke instead.\n",
      "  warn_deprecated(\n",
      "You seem to be using the pipelines sequentially on GPU. In order to maximize efficiency please use a dataset\n"
     ]
    },
    {
     "data": {
      "application/vnd.jupyter.widget-view+json": {
       "model_id": "8783eeebd72a49478123194ca1ca2c0e",
       "version_major": 2,
       "version_minor": 0
      },
      "text/plain": [
       "Saving the dataset (0/1 shards):   0%|          | 0/20 [00:00<?, ? examples/s]"
      ]
     },
     "metadata": {},
     "output_type": "display_data"
    }
   ],
   "source": [
    "#198\n",
    "from datasets import Dataset\n",
    "questions= [\n",
    "    \"Why was the patient admitted to the hospital?\",\n",
    "    \"What allergie did the patient have?\",\n",
    "    \"What imaging studies were performed on the patient?\",\n",
    "    \"What medication is the patient taking?\",\n",
    "    \"What were the results of chest CT?\",\n",
    "    \"What follow-up instructions were given to the patient?\",\n",
    "    \"How did the patient get to the hospital?\",\n",
    "    \"What treatment was given for the right pneumothorax?\",\n",
    "    \"What is the patient's orientation status upon arrival?\",\n",
    "    \"What was the patient's lactate level?\",\n",
    "    \"What is the follow-up plan for the female patient?\",\n",
    "    \"What antibiotic was prescribed at discharge?\",\n",
    "    \"How many stab wounds did the male patient have?\",\n",
    "    \"What is the patient's O2 saturation on a non-rebreather?\",\n",
    "    \"What were the results of the patient's chest and pelvic x-rays?\",\n",
    "    \"What was the patient's creatinine level?\",\n",
    "    \"What was the female patient's heart rate upon recheck?\",\n",
    "    \"What medication was the female patient given for DVT prophylaxis?\",\n",
    "    \"How did the female patient react to the amiodarone bolus?\",\n",
    "    \"What were the female patient's vital signs upon initial examination?\"\n",
    "]\n",
    "\n",
    "ground_truths = [[\"He was stabbed in the back three times.\"],\n",
    "                 [\"No known drug allergies4.\"],\n",
    "                 [\"Chest and pelvic x-rays were normal. Head CT was negative. Abdominal CT was within normal limits. Chest CT showed a right pneumothorax.\"],\n",
    "                 [\"Methadone 5 mg po b.i.d. for five days only with Ibuprofen 400 mg t.i.d. Cefalexin 500 mg b.i.d. times four days. Pantoprazole 40 mg po q.d. Dilaudid 2 mg po q 6 hours prn for five days.\"],\n",
    "                 [\"Chest CT showed a right pneumothorax.\"],\n",
    "                 [\"The patient can follow up at the Trauma Clinic if there are any new developments with the wounds or problems relating to this injury. Otherwise he is to obtain a primary care physician for long term healthcare.\"],\n",
    "                 [\"EMS\"],\n",
    "                 [\"A right-sided chest tube was placed without complications.\"],\n",
    "                 [\"The patient was alert and oriented times three.\"],\n",
    "                 [\"Lactate level was 0.2.\"],\n",
    "                 [\"The follow-up plan for the female patient is to continue treatments as described and undergo rehabilitation for unit myopathy. She should follow up with Dr. within 6-8 weeks.\"],\n",
    "                 [\"Cefalexin 500 mg BID for four days.\"],\n",
    "                 [\"Three stab wounds.\"],\n",
    "                 [\"100%.\"],\n",
    "                 [\"Normal.\"],\n",
    "                 [\"0.9.\"],\n",
    "                 [\"101.\"],\n",
    "                 [\"Subcutaneous Heparin.\"],\n",
    "                 [\"The female patient returned to normal sinus rhythm (NSR) shortly thereafter.\"],\n",
    "                 [\"Temperature 97.4, pulse 101, blood pressure 205/76, respirations 18, O2 saturation 98% on room air. Rechecked blood pressure was 166/58.\"]\n",
    "\n",
    "\n",
    "\n",
    "]\n",
    "answers = []\n",
    "contexts = []\n",
    "\n",
    "for query in questions:\n",
    "    answers.append(chain.invoke(query))\n",
    "    contexts.append([docs.page_content for docs in retriever.get_relevant_documents(query)])\n",
    "\n",
    "# 构建数据\n",
    "data = {\n",
    "    \"question\": questions,\n",
    "    \"answer\": answers,\n",
    "    \"contexts\": contexts,\n",
    "    \"ground_truths\": ground_truths\n",
    "}\n",
    "dataset = Dataset.from_dict(data)\n",
    "dataset.save_to_disk('t5-198txt')#17m"
   ]
  },
  {
   "cell_type": "code",
   "execution_count": 10,
   "metadata": {},
   "outputs": [
    {
     "name": "stderr",
     "output_type": "stream",
     "text": [
      "/root/miniconda3/lib/python3.8/site-packages/langchain_core/_api/deprecation.py:139: LangChainDeprecationWarning: The method `BaseRetriever.get_relevant_documents` was deprecated in langchain-core 0.1.46 and will be removed in 0.3.0. Use invoke instead.\n",
      "  warn_deprecated(\n",
      "You seem to be using the pipelines sequentially on GPU. In order to maximize efficiency please use a dataset\n"
     ]
    },
    {
     "data": {
      "application/vnd.jupyter.widget-view+json": {
       "model_id": "40e7faa6141841ee927c30eeefedab26",
       "version_major": 2,
       "version_minor": 0
      },
      "text/plain": [
       "Saving the dataset (0/1 shards):   0%|          | 0/20 [00:00<?, ? examples/s]"
      ]
     },
     "metadata": {},
     "output_type": "display_data"
    }
   ],
   "source": [
    "\n",
    "#167\n",
    "from datasets import Dataset\n",
    "questions= [\n",
    "    \"What is the patient's primary diagnosis?\",\n",
    "    \"What medications is the patient currently taking for maintenance?\",\n",
    "    \"Has the patient got a history of drug?\",\n",
    "    \"What allergies did the patient have?\",\n",
    "    \"What were the results of the patient's chest X-ray on admission?\",\n",
    "    \"How many loose stools does the patient report per day?\",\n",
    "    \"What is the patient presenting for?\",\n",
    "    \"Does the patient have a fever or chills?\",\n",
    "    \"What medication is prescribed as needed for anxiety?\",\n",
    "    \"What is the patient's temperature on admission?\",\n",
    "    \"What is the patient's heart rate on admission?\",\n",
    "    \"What was the patient's oxygen saturation on room air upon admission?\",\n",
    "    \"What were the heart examination findings on admission?\",\n",
    "    \"What were the EKG findings on admission?\",\n",
    "    \"What were the patient's white blood cell count preoperatively?\",\n",
    "    \"How many patients have records of taking paracetamol?\",\n",
    "    \"What will the patient follow up with?\",\n",
    "    \"What were the medications prescribed for the 31-year-old female patient postoperatively?\",\n",
    "    \"What is the patient's primary reason for presenting preop for a liver transplant?\",\n",
    "    \"What was the patient's respiratory rate on admission for the liver transplant?\"\n",
    "]\n",
    "\n",
    "ground_truths = [[\"Hepatitis C virus cirrhosis and right lobe hepatocellular carcinoma.\"],\n",
    "                 [\"Methadone 145 mg q. d.|Lives in .|History of alcohol abuse.  Denies any cigarette smoking.|On admission, temperature 98.1, heart rate 65, blood pressure 122/84 with a respiratory rate of 18,|8% on room air.  He was alert and oriented, no acute distress.  Lungs clear to auscultation bilaterally.  Heart regular rate and rhythm.  Abdomen soft, obese, positive bowel sounds, nonfocal abdomen, tender, negative rebound, negative hemorrhoids, positive umbilical hernia.  Rectal, guaiac negative, no hemorrhoids.  Extremities, positive venous changes and no edema.|On admission, the patient had a chest x-ray that showed no acute process, no suspicious nodules.  EKG on , sinus bradycardia, rate 49, inferior lateral flat T-waves.  On , CT of the thorax was stable, no lesions.|The patient was admitted to the transplant service.  He was made NPO after midnight.  IV fluid was started.  Lab work was sent off to use preop for the OR. Labs preop:  White count 3.7, hematocrit\"],\n",
    "                 [\"Yes, he had a history of alcohol and IV drug abuse.\"],\n",
    "                 [\"Penicillin\"],\n",
    "                 [\"The chest x-ray showed no acute process, no suspicious nodules.\"],\n",
    "                 [\"x10 per 24 hours\"],\n",
    "                 [\"The 51-year-old male is presenting preop for a liver transplant in the a.m. The 41-year-old male was admitted to an outside hospital for new onset of tonic-clonic seizures. The 31-year-old woman is presenting for gastric bypass surgery (Roux-en-Y gastrojejunostomy).\"],\n",
    "                 [\"No, the patient does not have a fever or chills.\"],\n",
    "                 [\"Ativan 1 mg p.r.n.\"],\n",
    "                 [\"98.1°F.\"],\n",
    "                 [\"65 beats per minute.\"],\n",
    "                 [\"98%.\"],\n",
    "                 [\"Heart regular rate and rhythm.\"],\n",
    "                 [\"Sinus bradycardia, rate 49, inferior lateral flat T-waves.\"],\n",
    "                 [\"8.1\"],\n",
    "                 [\"0\"],\n",
    "                 [\"The patient will follow up with their primary care physician next week to check liver function tests. The patient is scheduled to follow up with Dr.  next week, who is their infectious disease specialist. Additionally, the patient is to follow up in the clinic on  with Dr. .\"],\n",
    "                 [\"Postoperatively, the patient was prescribed Roxicet Elixir for pain management, Zantac Elixir, Actigall, and Vitamin B12.\"],\n",
    "                 [\"He reports loose stools x10 per 24 hours associated with chronic abdominal pain, no fever or chills, no nausea or vomiting, no cough, no urinary frequency, or symptoms of UTI. Does admit to feeling hungry and has baseline shortness of breath.\"],\n",
    "                 [\"18 breaths per minute.\"]\n",
    "]\n",
    "answers = []\n",
    "contexts = []\n",
    "\n",
    "for query in questions:\n",
    "    answers.append(chain.invoke(query))\n",
    "    contexts.append([docs.page_content for docs in retriever.get_relevant_documents(query)])\n",
    "\n",
    "# 构建数据\n",
    "data = {\n",
    "    \"question\": questions,\n",
    "    \"answer\": answers,\n",
    "    \"contexts\": contexts,\n",
    "    \"ground_truths\": ground_truths\n",
    "}\n",
    "dataset = Dataset.from_dict(data)\n",
    "dataset.save_to_disk('167txt')#11m35.7s"
   ]
  },
  {
   "cell_type": "code",
   "execution_count": 11,
   "metadata": {},
   "outputs": [],
   "source": [
    "from datasets import Dataset\n",
    "questions= [\n",
    "    \"Has the patient got a history of diabetes?\",\n",
    "    \"What allergies did the patient have?\",\n",
    "    \"Does the patient use tobacco or alcohol?\",\n",
    "    \"What medication is the patient taking?\",\n",
    "    \"What measures were taken for the patient?\",\n",
    "    \"What imaging studies were performed on the patient?\",\n",
    "    \"What follow-up care was scheduled for the patient?\",\n",
    "    \"What did C-spine show?\",\n",
    "    \"Does the patient use alcohol?\",\n",
    "    \"Does the patient use cigarettes or alcohol?\",\n",
    "    \"Did patient use tobacco?\"\n",
    "]\n",
    "\n",
    "ground_truths = [[\"No.\"],\n",
    "                 [\"The patient has no known allergies to drugs.\"],\n",
    "                 [\"Yes, the patient occasionally uses tobacco (cigarettes) but denies alcohol use.\"],\n",
    "                 [\"Dilantin 100 IV TID.\"],\n",
    "                 [\"Intubation and placement of a left radial arterial line for close blood pressure monitoring with a goal of keeping systolic blood pressure under 140. head CT, C-spine, chest/abdomen/pelvis CT to assess injuries. The patient was started on Dilantin 100 IV TID. Monitoring in the Trauma Intensive Care Unit (TICU). Repeat head CT and gradual weaning. Discontinuation of the Foley catheter and intravenous lines.Transfer from the ICU to the general hospital floor.  MRI of the C-spine to evaluate for potential injuries, which showed no fractures or ligamentous injuries, leading to clearance of the C-spine and discontinuation of the C-collar.Evaluation by Neurosurgery and Physical Therapy, deeming the patient fit for discharge with instructions for home care and follow-up.\"],\n",
    "                 [\"The patient underwent head CT, C-spine, chest/abd/pelvis CT scans, and an MRI of the C-spine\"],\n",
    "                 [\"An outpatient CT scan was scheduled to be done in 2 weeks, and a follow-up clinic appointment was scheduled in 2 weeks after the CT scan.No need to follow up in the trauma clinic but the patient may call the clinic with any questions.\"],\n",
    "                 [\"The MRI of the C-spine showed no fractures or ligamentous injuries.\"],\n",
    "                 [\"No, the patient denies alcohol use.\"],\n",
    "                 [\"The patient occasionally uses cigarettes and denies alcohol use.\"],\n",
    "                 [\"Yes, the patient occasionally uses tobacco (cigarettes).\"]\n",
    "\n",
    "]\n",
    "answers = []\n",
    "contexts = []\n",
    "\n",
    "for query in questions:\n",
    "    answers.append(chain.invoke(query))\n",
    "    contexts.append([docs.page_content for docs in retriever.get_relevant_documents(query)])\n",
    "\n",
    "# 构建数据\n",
    "data = {\n",
    "    \"question\": questions,\n",
    "    \"answer\": answers,\n",
    "    \"contexts\": contexts,\n",
    "    \"ground_truths\": ground_truths\n",
    "}\n",
    "dataset = Dataset.from_dict(data)\n"
   ]
  },
  {
   "cell_type": "code",
   "execution_count": 12,
   "metadata": {},
   "outputs": [
    {
     "data": {
      "text/plain": [
       "Dataset({\n",
       "    features: ['question', 'answer', 'contexts', 'ground_truths'],\n",
       "    num_rows: 11\n",
       "})"
      ]
     },
     "execution_count": 12,
     "metadata": {},
     "output_type": "execute_result"
    }
   ],
   "source": [
    "dataset"
   ]
  },
  {
   "cell_type": "code",
   "execution_count": 13,
   "metadata": {},
   "outputs": [
    {
     "name": "stderr",
     "output_type": "stream",
     "text": [
      "Saving the dataset (1/1 shards): 100%|██████████| 11/11 [00:00<00:00, 618.31 examples/s]\n"
     ]
    }
   ],
   "source": [
    "dataset.save_to_disk('JSL-MedLlama-3-8B-v2.0-dataset')"
   ]
  },
  {
   "cell_type": "code",
   "execution_count": 14,
   "metadata": {},
   "outputs": [
    {
     "data": {
      "text/html": [
       "<div>\n",
       "<style scoped>\n",
       "    .dataframe tbody tr th:only-of-type {\n",
       "        vertical-align: middle;\n",
       "    }\n",
       "\n",
       "    .dataframe tbody tr th {\n",
       "        vertical-align: top;\n",
       "    }\n",
       "\n",
       "    .dataframe thead th {\n",
       "        text-align: right;\n",
       "    }\n",
       "</style>\n",
       "<table border=\"1\" class=\"dataframe\">\n",
       "  <thead>\n",
       "    <tr style=\"text-align: right;\">\n",
       "      <th></th>\n",
       "      <th>question</th>\n",
       "      <th>answer</th>\n",
       "      <th>contexts</th>\n",
       "      <th>ground_truths</th>\n",
       "    </tr>\n",
       "  </thead>\n",
       "  <tbody>\n",
       "    <tr>\n",
       "      <th>0</th>\n",
       "      <td>Has the patient got a history of diabetes?</td>\n",
       "      <td>Yes, the patient has a history of diabetes.</td>\n",
       "      <td>[Patient recorded as having No Known Allergies...</td>\n",
       "      <td>[No.]</td>\n",
       "    </tr>\n",
       "    <tr>\n",
       "      <th>1</th>\n",
       "      <td>What allergies did the patient have?</td>\n",
       "      <td>Allergic to</td>\n",
       "      <td>[Patient recorded as having No Known Allergies...</td>\n",
       "      <td>[The patient has no known allergies to drugs.]</td>\n",
       "    </tr>\n",
       "    <tr>\n",
       "      <th>2</th>\n",
       "      <td>Does the patient use tobacco or alcohol?</td>\n",
       "      <td>Answer: The patient occasionally uses tobacco ...</td>\n",
       "      <td>[Patient recorded as having No Known Allergies...</td>\n",
       "      <td>[Yes, the patient occasionally uses tobacco (c...</td>\n",
       "    </tr>\n",
       "    <tr>\n",
       "      <th>3</th>\n",
       "      <td>What medication is the patient taking?</td>\n",
       "      <td>The answer is Dilantin.</td>\n",
       "      <td>[Patient recorded as having No Known Allergies...</td>\n",
       "      <td>[Dilantin 100 IV TID.]</td>\n",
       "    </tr>\n",
       "    <tr>\n",
       "      <th>4</th>\n",
       "      <td>What measures were taken for the patient?</td>\n",
       "      <td>The answer is: The patient was given Dilantin ...</td>\n",
       "      <td>[Patient recorded as having No Known Allergies...</td>\n",
       "      <td>[Intubation and placement of a left radial art...</td>\n",
       "    </tr>\n",
       "  </tbody>\n",
       "</table>\n",
       "</div>"
      ],
      "text/plain": [
       "                                     question  \\\n",
       "0  Has the patient got a history of diabetes?   \n",
       "1        What allergies did the patient have?   \n",
       "2    Does the patient use tobacco or alcohol?   \n",
       "3      What medication is the patient taking?   \n",
       "4   What measures were taken for the patient?   \n",
       "\n",
       "                                              answer  \\\n",
       "0        Yes, the patient has a history of diabetes.   \n",
       "1                                        Allergic to   \n",
       "2  Answer: The patient occasionally uses tobacco ...   \n",
       "3                            The answer is Dilantin.   \n",
       "4  The answer is: The patient was given Dilantin ...   \n",
       "\n",
       "                                            contexts  \\\n",
       "0  [Patient recorded as having No Known Allergies...   \n",
       "1  [Patient recorded as having No Known Allergies...   \n",
       "2  [Patient recorded as having No Known Allergies...   \n",
       "3  [Patient recorded as having No Known Allergies...   \n",
       "4  [Patient recorded as having No Known Allergies...   \n",
       "\n",
       "                                       ground_truths  \n",
       "0                                              [No.]  \n",
       "1     [The patient has no known allergies to drugs.]  \n",
       "2  [Yes, the patient occasionally uses tobacco (c...  \n",
       "3                             [Dilantin 100 IV TID.]  \n",
       "4  [Intubation and placement of a left radial art...  "
      ]
     },
     "metadata": {},
     "output_type": "display_data"
    }
   ],
   "source": [
    "ragas_input_df = dataset.to_pandas()\n",
    "display(ragas_input_df.head())"
   ]
  },
  {
   "cell_type": "code",
   "execution_count": 15,
   "metadata": {},
   "outputs": [],
   "source": [
    "import os\n",
    "os.environ[\"OPENAI_API_KEY\"] = \"\""
   ]
  },
  {
   "cell_type": "code",
   "execution_count": 18,
   "metadata": {},
   "outputs": [],
   "source": [
    "from ragas import evaluate\n",
    "from ragas.metrics import (\n",
    "    answer_relevancy,\n",
    "    faithfulness,\n",
    "    context_recall,\n",
    "    context_precision,\n",
    "    context_relevancy,\n",
    "    answer_correctness,\n",
    "    answer_similarity\n",
    ")\n",
    "     "
   ]
  },
  {
   "cell_type": "code",
   "execution_count": 16,
   "metadata": {},
   "outputs": [],
   "source": [
    "\n",
    "\n",
    "def evaluate_ragas_dataset(dataset):\n",
    "  result = evaluate(\n",
    "    dataset,\n",
    "    metrics=[\n",
    "        context_precision,\n",
    "        faithfulness,\n",
    "        answer_relevancy,\n",
    "        context_recall,\n",
    "        context_relevancy,\n",
    "        answer_correctness,\n",
    "        answer_similarity\n",
    "    ],\n",
    "    \n",
    "  )\n",
    "  return result"
   ]
  },
  {
   "cell_type": "code",
   "execution_count": 19,
   "metadata": {},
   "outputs": [
    {
     "name": "stdout",
     "output_type": "stream",
     "text": [
      "evaluating with [context_precision]\n"
     ]
    },
    {
     "name": "stderr",
     "output_type": "stream",
     "text": [
      "100%|██████████| 1/1 [01:02<00:00, 62.34s/it]\n"
     ]
    },
    {
     "name": "stdout",
     "output_type": "stream",
     "text": [
      "evaluating with [faithfulness]\n"
     ]
    },
    {
     "name": "stderr",
     "output_type": "stream",
     "text": [
      "100%|██████████| 1/1 [00:04<00:00,  4.83s/it]\n"
     ]
    },
    {
     "name": "stdout",
     "output_type": "stream",
     "text": [
      "evaluating with [answer_relevancy]\n"
     ]
    },
    {
     "name": "stderr",
     "output_type": "stream",
     "text": [
      "100%|██████████| 1/1 [00:10<00:00, 10.05s/it]\n"
     ]
    },
    {
     "name": "stdout",
     "output_type": "stream",
     "text": [
      "evaluating with [context_recall]\n"
     ]
    },
    {
     "name": "stderr",
     "output_type": "stream",
     "text": [
      "100%|██████████| 1/1 [00:04<00:00,  4.55s/it]\n"
     ]
    },
    {
     "name": "stdout",
     "output_type": "stream",
     "text": [
      "evaluating with [context_relevancy]\n"
     ]
    },
    {
     "name": "stderr",
     "output_type": "stream",
     "text": [
      "100%|██████████| 1/1 [00:02<00:00,  2.83s/it]\n"
     ]
    },
    {
     "name": "stdout",
     "output_type": "stream",
     "text": [
      "evaluating with [answer_correctness]\n"
     ]
    },
    {
     "name": "stderr",
     "output_type": "stream",
     "text": [
      "100%|██████████| 1/1 [00:05<00:00,  5.10s/it]\n"
     ]
    },
    {
     "name": "stdout",
     "output_type": "stream",
     "text": [
      "evaluating with [answer_similarity]\n"
     ]
    },
    {
     "name": "stderr",
     "output_type": "stream",
     "text": [
      "100%|██████████| 1/1 [00:00<00:00,  1.07it/s]\n"
     ]
    }
   ],
   "source": [
    "qa_result = evaluate_ragas_dataset(dataset)"
   ]
  },
  {
   "cell_type": "markdown",
   "metadata": {},
   "source": []
  },
  {
   "cell_type": "code",
   "execution_count": 20,
   "metadata": {},
   "outputs": [
    {
     "name": "stdout",
     "output_type": "stream",
     "text": [
      "{'context_precision': 0.2727, 'faithfulness': 0.7273, 'answer_relevancy': 0.8613, 'context_recall': 1.0000, 'context_relevancy': 0.1193, 'answer_correctness': 0.8750, 'answer_similarity': 1.0000}\n"
     ]
    }
   ],
   "source": [
    "print(qa_result)"
   ]
  },
  {
   "cell_type": "code",
   "execution_count": 21,
   "metadata": {},
   "outputs": [],
   "source": [
    "df = qa_result.to_pandas()"
   ]
  },
  {
   "cell_type": "code",
   "execution_count": 22,
   "metadata": {},
   "outputs": [],
   "source": [
    "df.to_csv(\"JSL-MedLlama-3-8B-v2.0-dataset_ragas_result.csv\")"
   ]
  }
 ],
 "metadata": {
  "kernelspec": {
   "display_name": "Python 3 (ipykernel)",
   "language": "python",
   "name": "python3"
  },
  "language_info": {
   "codemirror_mode": {
    "name": "ipython",
    "version": 3
   },
   "file_extension": ".py",
   "mimetype": "text/x-python",
   "name": "python",
   "nbconvert_exporter": "python",
   "pygments_lexer": "ipython3",
   "version": "3.8.10"
  }
 },
 "nbformat": 4,
 "nbformat_minor": 4
}
